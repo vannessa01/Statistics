{
  "cells": [
    {
      "cell_type": "markdown",
      "metadata": {
        "id": "view-in-github",
        "colab_type": "text"
      },
      "source": [
        "<a href=\"https://colab.research.google.com/github/vannessa01/Statistics/blob/main/Statistics_Case.ipynb\" target=\"_parent\"><img src=\"https://colab.research.google.com/assets/colab-badge.svg\" alt=\"Open In Colab\"/></a>"
      ]
    },
    {
      "cell_type": "markdown",
      "source": [
        "# Statistics"
      ],
      "metadata": {
        "id": "EhVDUijhQkWN"
      },
      "id": "EhVDUijhQkWN"
    },
    {
      "cell_type": "markdown",
      "id": "4f288353-d307-4450-b584-37db06ecc251",
      "metadata": {
        "id": "4f288353-d307-4450-b584-37db06ecc251"
      },
      "source": [
        "Nama: Vannessa Yoanita Oktorio Naibaho"
      ]
    },
    {
      "cell_type": "markdown",
      "id": "179b11b8-0900-442d-a500-0af586b31621",
      "metadata": {
        "id": "179b11b8-0900-442d-a500-0af586b31621"
      },
      "source": [
        "Kelas: Rakamin DS 19A"
      ]
    },
    {
      "cell_type": "code",
      "execution_count": null,
      "id": "2c6ad05d-946d-458b-b76d-f8c5985fd4d8",
      "metadata": {
        "id": "2c6ad05d-946d-458b-b76d-f8c5985fd4d8"
      },
      "outputs": [],
      "source": [
        "## Pandas dan Numpy\n",
        "import pandas as pd\n",
        "import numpy as np\n",
        "\n",
        "# Visualization Library\n",
        "import matplotlib.pyplot as plt\n",
        "import seaborn as sns\n",
        "import scipy.stats as st\n",
        "from scipy.stats import chi2_contingency\n",
        "import statsmodels.stats.proportion as sp\n",
        "import numpy as np"
      ]
    },
    {
      "cell_type": "code",
      "execution_count": null,
      "id": "78ad2263-7548-430e-bf4d-12488b506f9e",
      "metadata": {
        "id": "78ad2263-7548-430e-bf4d-12488b506f9e"
      },
      "outputs": [],
      "source": [
        "pd.options.display.max_columns = None"
      ]
    },
    {
      "cell_type": "code",
      "execution_count": null,
      "id": "a450d573-aeee-4820-b1f7-ffe246dfa30f",
      "metadata": {
        "id": "a450d573-aeee-4820-b1f7-ffe246dfa30f"
      },
      "outputs": [],
      "source": [
        "data = pd.read_csv('train.csv')"
      ]
    },
    {
      "cell_type": "code",
      "execution_count": null,
      "id": "98b04f2d-186c-48ba-9102-ac4478458e3b",
      "metadata": {
        "id": "98b04f2d-186c-48ba-9102-ac4478458e3b",
        "outputId": "908552f0-53d6-443f-ac58-c6f11cb72e58"
      },
      "outputs": [
        {
          "data": {
            "text/html": [
              "<div>\n",
              "<style scoped>\n",
              "    .dataframe tbody tr th:only-of-type {\n",
              "        vertical-align: middle;\n",
              "    }\n",
              "\n",
              "    .dataframe tbody tr th {\n",
              "        vertical-align: top;\n",
              "    }\n",
              "\n",
              "    .dataframe thead th {\n",
              "        text-align: right;\n",
              "    }\n",
              "</style>\n",
              "<table border=\"1\" class=\"dataframe\">\n",
              "  <thead>\n",
              "    <tr style=\"text-align: right;\">\n",
              "      <th></th>\n",
              "      <th>Id</th>\n",
              "      <th>MSSubClass</th>\n",
              "      <th>MSZoning</th>\n",
              "      <th>LotFrontage</th>\n",
              "      <th>LotArea</th>\n",
              "      <th>Street</th>\n",
              "      <th>Alley</th>\n",
              "      <th>LotShape</th>\n",
              "      <th>LandContour</th>\n",
              "      <th>Utilities</th>\n",
              "      <th>LotConfig</th>\n",
              "      <th>LandSlope</th>\n",
              "      <th>Neighborhood</th>\n",
              "      <th>Condition1</th>\n",
              "      <th>Condition2</th>\n",
              "      <th>BldgType</th>\n",
              "      <th>HouseStyle</th>\n",
              "      <th>OverallQual</th>\n",
              "      <th>OverallCond</th>\n",
              "      <th>YearBuilt</th>\n",
              "      <th>YearRemodAdd</th>\n",
              "      <th>RoofStyle</th>\n",
              "      <th>RoofMatl</th>\n",
              "      <th>Exterior1st</th>\n",
              "      <th>Exterior2nd</th>\n",
              "      <th>MasVnrType</th>\n",
              "      <th>MasVnrArea</th>\n",
              "      <th>ExterQual</th>\n",
              "      <th>ExterCond</th>\n",
              "      <th>Foundation</th>\n",
              "      <th>BsmtQual</th>\n",
              "      <th>BsmtCond</th>\n",
              "      <th>BsmtExposure</th>\n",
              "      <th>BsmtFinType1</th>\n",
              "      <th>BsmtFinSF1</th>\n",
              "      <th>BsmtFinType2</th>\n",
              "      <th>BsmtFinSF2</th>\n",
              "      <th>BsmtUnfSF</th>\n",
              "      <th>TotalBsmtSF</th>\n",
              "      <th>Heating</th>\n",
              "      <th>HeatingQC</th>\n",
              "      <th>CentralAir</th>\n",
              "      <th>Electrical</th>\n",
              "      <th>1stFlrSF</th>\n",
              "      <th>2ndFlrSF</th>\n",
              "      <th>LowQualFinSF</th>\n",
              "      <th>GrLivArea</th>\n",
              "      <th>BsmtFullBath</th>\n",
              "      <th>BsmtHalfBath</th>\n",
              "      <th>FullBath</th>\n",
              "      <th>HalfBath</th>\n",
              "      <th>BedroomAbvGr</th>\n",
              "      <th>KitchenAbvGr</th>\n",
              "      <th>KitchenQual</th>\n",
              "      <th>TotRmsAbvGrd</th>\n",
              "      <th>Functional</th>\n",
              "      <th>Fireplaces</th>\n",
              "      <th>FireplaceQu</th>\n",
              "      <th>GarageType</th>\n",
              "      <th>GarageYrBlt</th>\n",
              "      <th>GarageFinish</th>\n",
              "      <th>GarageCars</th>\n",
              "      <th>GarageArea</th>\n",
              "      <th>GarageQual</th>\n",
              "      <th>GarageCond</th>\n",
              "      <th>PavedDrive</th>\n",
              "      <th>WoodDeckSF</th>\n",
              "      <th>OpenPorchSF</th>\n",
              "      <th>EnclosedPorch</th>\n",
              "      <th>3SsnPorch</th>\n",
              "      <th>ScreenPorch</th>\n",
              "      <th>PoolArea</th>\n",
              "      <th>PoolQC</th>\n",
              "      <th>Fence</th>\n",
              "      <th>MiscFeature</th>\n",
              "      <th>MiscVal</th>\n",
              "      <th>MoSold</th>\n",
              "      <th>YrSold</th>\n",
              "      <th>SaleType</th>\n",
              "      <th>SaleCondition</th>\n",
              "      <th>SalePrice</th>\n",
              "    </tr>\n",
              "  </thead>\n",
              "  <tbody>\n",
              "    <tr>\n",
              "      <th>0</th>\n",
              "      <td>1</td>\n",
              "      <td>60</td>\n",
              "      <td>RL</td>\n",
              "      <td>65.0</td>\n",
              "      <td>8450</td>\n",
              "      <td>Pave</td>\n",
              "      <td>NaN</td>\n",
              "      <td>Reg</td>\n",
              "      <td>Lvl</td>\n",
              "      <td>AllPub</td>\n",
              "      <td>Inside</td>\n",
              "      <td>Gtl</td>\n",
              "      <td>CollgCr</td>\n",
              "      <td>Norm</td>\n",
              "      <td>Norm</td>\n",
              "      <td>1Fam</td>\n",
              "      <td>2Story</td>\n",
              "      <td>7</td>\n",
              "      <td>5</td>\n",
              "      <td>2003</td>\n",
              "      <td>2003</td>\n",
              "      <td>Gable</td>\n",
              "      <td>CompShg</td>\n",
              "      <td>VinylSd</td>\n",
              "      <td>VinylSd</td>\n",
              "      <td>BrkFace</td>\n",
              "      <td>196.0</td>\n",
              "      <td>Gd</td>\n",
              "      <td>TA</td>\n",
              "      <td>PConc</td>\n",
              "      <td>Gd</td>\n",
              "      <td>TA</td>\n",
              "      <td>No</td>\n",
              "      <td>GLQ</td>\n",
              "      <td>706</td>\n",
              "      <td>Unf</td>\n",
              "      <td>0</td>\n",
              "      <td>150</td>\n",
              "      <td>856</td>\n",
              "      <td>GasA</td>\n",
              "      <td>Ex</td>\n",
              "      <td>Y</td>\n",
              "      <td>SBrkr</td>\n",
              "      <td>856</td>\n",
              "      <td>854</td>\n",
              "      <td>0</td>\n",
              "      <td>1710</td>\n",
              "      <td>1</td>\n",
              "      <td>0</td>\n",
              "      <td>2</td>\n",
              "      <td>1</td>\n",
              "      <td>3</td>\n",
              "      <td>1</td>\n",
              "      <td>Gd</td>\n",
              "      <td>8</td>\n",
              "      <td>Typ</td>\n",
              "      <td>0</td>\n",
              "      <td>NaN</td>\n",
              "      <td>Attchd</td>\n",
              "      <td>2003.0</td>\n",
              "      <td>RFn</td>\n",
              "      <td>2</td>\n",
              "      <td>548</td>\n",
              "      <td>TA</td>\n",
              "      <td>TA</td>\n",
              "      <td>Y</td>\n",
              "      <td>0</td>\n",
              "      <td>61</td>\n",
              "      <td>0</td>\n",
              "      <td>0</td>\n",
              "      <td>0</td>\n",
              "      <td>0</td>\n",
              "      <td>NaN</td>\n",
              "      <td>NaN</td>\n",
              "      <td>NaN</td>\n",
              "      <td>0</td>\n",
              "      <td>2</td>\n",
              "      <td>2008</td>\n",
              "      <td>WD</td>\n",
              "      <td>Normal</td>\n",
              "      <td>208500</td>\n",
              "    </tr>\n",
              "    <tr>\n",
              "      <th>1</th>\n",
              "      <td>2</td>\n",
              "      <td>20</td>\n",
              "      <td>RL</td>\n",
              "      <td>80.0</td>\n",
              "      <td>9600</td>\n",
              "      <td>Pave</td>\n",
              "      <td>NaN</td>\n",
              "      <td>Reg</td>\n",
              "      <td>Lvl</td>\n",
              "      <td>AllPub</td>\n",
              "      <td>FR2</td>\n",
              "      <td>Gtl</td>\n",
              "      <td>Veenker</td>\n",
              "      <td>Feedr</td>\n",
              "      <td>Norm</td>\n",
              "      <td>1Fam</td>\n",
              "      <td>1Story</td>\n",
              "      <td>6</td>\n",
              "      <td>8</td>\n",
              "      <td>1976</td>\n",
              "      <td>1976</td>\n",
              "      <td>Gable</td>\n",
              "      <td>CompShg</td>\n",
              "      <td>MetalSd</td>\n",
              "      <td>MetalSd</td>\n",
              "      <td>None</td>\n",
              "      <td>0.0</td>\n",
              "      <td>TA</td>\n",
              "      <td>TA</td>\n",
              "      <td>CBlock</td>\n",
              "      <td>Gd</td>\n",
              "      <td>TA</td>\n",
              "      <td>Gd</td>\n",
              "      <td>ALQ</td>\n",
              "      <td>978</td>\n",
              "      <td>Unf</td>\n",
              "      <td>0</td>\n",
              "      <td>284</td>\n",
              "      <td>1262</td>\n",
              "      <td>GasA</td>\n",
              "      <td>Ex</td>\n",
              "      <td>Y</td>\n",
              "      <td>SBrkr</td>\n",
              "      <td>1262</td>\n",
              "      <td>0</td>\n",
              "      <td>0</td>\n",
              "      <td>1262</td>\n",
              "      <td>0</td>\n",
              "      <td>1</td>\n",
              "      <td>2</td>\n",
              "      <td>0</td>\n",
              "      <td>3</td>\n",
              "      <td>1</td>\n",
              "      <td>TA</td>\n",
              "      <td>6</td>\n",
              "      <td>Typ</td>\n",
              "      <td>1</td>\n",
              "      <td>TA</td>\n",
              "      <td>Attchd</td>\n",
              "      <td>1976.0</td>\n",
              "      <td>RFn</td>\n",
              "      <td>2</td>\n",
              "      <td>460</td>\n",
              "      <td>TA</td>\n",
              "      <td>TA</td>\n",
              "      <td>Y</td>\n",
              "      <td>298</td>\n",
              "      <td>0</td>\n",
              "      <td>0</td>\n",
              "      <td>0</td>\n",
              "      <td>0</td>\n",
              "      <td>0</td>\n",
              "      <td>NaN</td>\n",
              "      <td>NaN</td>\n",
              "      <td>NaN</td>\n",
              "      <td>0</td>\n",
              "      <td>5</td>\n",
              "      <td>2007</td>\n",
              "      <td>WD</td>\n",
              "      <td>Normal</td>\n",
              "      <td>181500</td>\n",
              "    </tr>\n",
              "    <tr>\n",
              "      <th>2</th>\n",
              "      <td>3</td>\n",
              "      <td>60</td>\n",
              "      <td>RL</td>\n",
              "      <td>68.0</td>\n",
              "      <td>11250</td>\n",
              "      <td>Pave</td>\n",
              "      <td>NaN</td>\n",
              "      <td>IR1</td>\n",
              "      <td>Lvl</td>\n",
              "      <td>AllPub</td>\n",
              "      <td>Inside</td>\n",
              "      <td>Gtl</td>\n",
              "      <td>CollgCr</td>\n",
              "      <td>Norm</td>\n",
              "      <td>Norm</td>\n",
              "      <td>1Fam</td>\n",
              "      <td>2Story</td>\n",
              "      <td>7</td>\n",
              "      <td>5</td>\n",
              "      <td>2001</td>\n",
              "      <td>2002</td>\n",
              "      <td>Gable</td>\n",
              "      <td>CompShg</td>\n",
              "      <td>VinylSd</td>\n",
              "      <td>VinylSd</td>\n",
              "      <td>BrkFace</td>\n",
              "      <td>162.0</td>\n",
              "      <td>Gd</td>\n",
              "      <td>TA</td>\n",
              "      <td>PConc</td>\n",
              "      <td>Gd</td>\n",
              "      <td>TA</td>\n",
              "      <td>Mn</td>\n",
              "      <td>GLQ</td>\n",
              "      <td>486</td>\n",
              "      <td>Unf</td>\n",
              "      <td>0</td>\n",
              "      <td>434</td>\n",
              "      <td>920</td>\n",
              "      <td>GasA</td>\n",
              "      <td>Ex</td>\n",
              "      <td>Y</td>\n",
              "      <td>SBrkr</td>\n",
              "      <td>920</td>\n",
              "      <td>866</td>\n",
              "      <td>0</td>\n",
              "      <td>1786</td>\n",
              "      <td>1</td>\n",
              "      <td>0</td>\n",
              "      <td>2</td>\n",
              "      <td>1</td>\n",
              "      <td>3</td>\n",
              "      <td>1</td>\n",
              "      <td>Gd</td>\n",
              "      <td>6</td>\n",
              "      <td>Typ</td>\n",
              "      <td>1</td>\n",
              "      <td>TA</td>\n",
              "      <td>Attchd</td>\n",
              "      <td>2001.0</td>\n",
              "      <td>RFn</td>\n",
              "      <td>2</td>\n",
              "      <td>608</td>\n",
              "      <td>TA</td>\n",
              "      <td>TA</td>\n",
              "      <td>Y</td>\n",
              "      <td>0</td>\n",
              "      <td>42</td>\n",
              "      <td>0</td>\n",
              "      <td>0</td>\n",
              "      <td>0</td>\n",
              "      <td>0</td>\n",
              "      <td>NaN</td>\n",
              "      <td>NaN</td>\n",
              "      <td>NaN</td>\n",
              "      <td>0</td>\n",
              "      <td>9</td>\n",
              "      <td>2008</td>\n",
              "      <td>WD</td>\n",
              "      <td>Normal</td>\n",
              "      <td>223500</td>\n",
              "    </tr>\n",
              "    <tr>\n",
              "      <th>3</th>\n",
              "      <td>4</td>\n",
              "      <td>70</td>\n",
              "      <td>RL</td>\n",
              "      <td>60.0</td>\n",
              "      <td>9550</td>\n",
              "      <td>Pave</td>\n",
              "      <td>NaN</td>\n",
              "      <td>IR1</td>\n",
              "      <td>Lvl</td>\n",
              "      <td>AllPub</td>\n",
              "      <td>Corner</td>\n",
              "      <td>Gtl</td>\n",
              "      <td>Crawfor</td>\n",
              "      <td>Norm</td>\n",
              "      <td>Norm</td>\n",
              "      <td>1Fam</td>\n",
              "      <td>2Story</td>\n",
              "      <td>7</td>\n",
              "      <td>5</td>\n",
              "      <td>1915</td>\n",
              "      <td>1970</td>\n",
              "      <td>Gable</td>\n",
              "      <td>CompShg</td>\n",
              "      <td>Wd Sdng</td>\n",
              "      <td>Wd Shng</td>\n",
              "      <td>None</td>\n",
              "      <td>0.0</td>\n",
              "      <td>TA</td>\n",
              "      <td>TA</td>\n",
              "      <td>BrkTil</td>\n",
              "      <td>TA</td>\n",
              "      <td>Gd</td>\n",
              "      <td>No</td>\n",
              "      <td>ALQ</td>\n",
              "      <td>216</td>\n",
              "      <td>Unf</td>\n",
              "      <td>0</td>\n",
              "      <td>540</td>\n",
              "      <td>756</td>\n",
              "      <td>GasA</td>\n",
              "      <td>Gd</td>\n",
              "      <td>Y</td>\n",
              "      <td>SBrkr</td>\n",
              "      <td>961</td>\n",
              "      <td>756</td>\n",
              "      <td>0</td>\n",
              "      <td>1717</td>\n",
              "      <td>1</td>\n",
              "      <td>0</td>\n",
              "      <td>1</td>\n",
              "      <td>0</td>\n",
              "      <td>3</td>\n",
              "      <td>1</td>\n",
              "      <td>Gd</td>\n",
              "      <td>7</td>\n",
              "      <td>Typ</td>\n",
              "      <td>1</td>\n",
              "      <td>Gd</td>\n",
              "      <td>Detchd</td>\n",
              "      <td>1998.0</td>\n",
              "      <td>Unf</td>\n",
              "      <td>3</td>\n",
              "      <td>642</td>\n",
              "      <td>TA</td>\n",
              "      <td>TA</td>\n",
              "      <td>Y</td>\n",
              "      <td>0</td>\n",
              "      <td>35</td>\n",
              "      <td>272</td>\n",
              "      <td>0</td>\n",
              "      <td>0</td>\n",
              "      <td>0</td>\n",
              "      <td>NaN</td>\n",
              "      <td>NaN</td>\n",
              "      <td>NaN</td>\n",
              "      <td>0</td>\n",
              "      <td>2</td>\n",
              "      <td>2006</td>\n",
              "      <td>WD</td>\n",
              "      <td>Abnorml</td>\n",
              "      <td>140000</td>\n",
              "    </tr>\n",
              "    <tr>\n",
              "      <th>4</th>\n",
              "      <td>5</td>\n",
              "      <td>60</td>\n",
              "      <td>RL</td>\n",
              "      <td>84.0</td>\n",
              "      <td>14260</td>\n",
              "      <td>Pave</td>\n",
              "      <td>NaN</td>\n",
              "      <td>IR1</td>\n",
              "      <td>Lvl</td>\n",
              "      <td>AllPub</td>\n",
              "      <td>FR2</td>\n",
              "      <td>Gtl</td>\n",
              "      <td>NoRidge</td>\n",
              "      <td>Norm</td>\n",
              "      <td>Norm</td>\n",
              "      <td>1Fam</td>\n",
              "      <td>2Story</td>\n",
              "      <td>8</td>\n",
              "      <td>5</td>\n",
              "      <td>2000</td>\n",
              "      <td>2000</td>\n",
              "      <td>Gable</td>\n",
              "      <td>CompShg</td>\n",
              "      <td>VinylSd</td>\n",
              "      <td>VinylSd</td>\n",
              "      <td>BrkFace</td>\n",
              "      <td>350.0</td>\n",
              "      <td>Gd</td>\n",
              "      <td>TA</td>\n",
              "      <td>PConc</td>\n",
              "      <td>Gd</td>\n",
              "      <td>TA</td>\n",
              "      <td>Av</td>\n",
              "      <td>GLQ</td>\n",
              "      <td>655</td>\n",
              "      <td>Unf</td>\n",
              "      <td>0</td>\n",
              "      <td>490</td>\n",
              "      <td>1145</td>\n",
              "      <td>GasA</td>\n",
              "      <td>Ex</td>\n",
              "      <td>Y</td>\n",
              "      <td>SBrkr</td>\n",
              "      <td>1145</td>\n",
              "      <td>1053</td>\n",
              "      <td>0</td>\n",
              "      <td>2198</td>\n",
              "      <td>1</td>\n",
              "      <td>0</td>\n",
              "      <td>2</td>\n",
              "      <td>1</td>\n",
              "      <td>4</td>\n",
              "      <td>1</td>\n",
              "      <td>Gd</td>\n",
              "      <td>9</td>\n",
              "      <td>Typ</td>\n",
              "      <td>1</td>\n",
              "      <td>TA</td>\n",
              "      <td>Attchd</td>\n",
              "      <td>2000.0</td>\n",
              "      <td>RFn</td>\n",
              "      <td>3</td>\n",
              "      <td>836</td>\n",
              "      <td>TA</td>\n",
              "      <td>TA</td>\n",
              "      <td>Y</td>\n",
              "      <td>192</td>\n",
              "      <td>84</td>\n",
              "      <td>0</td>\n",
              "      <td>0</td>\n",
              "      <td>0</td>\n",
              "      <td>0</td>\n",
              "      <td>NaN</td>\n",
              "      <td>NaN</td>\n",
              "      <td>NaN</td>\n",
              "      <td>0</td>\n",
              "      <td>12</td>\n",
              "      <td>2008</td>\n",
              "      <td>WD</td>\n",
              "      <td>Normal</td>\n",
              "      <td>250000</td>\n",
              "    </tr>\n",
              "  </tbody>\n",
              "</table>\n",
              "</div>"
            ],
            "text/plain": [
              "   Id  MSSubClass MSZoning  LotFrontage  LotArea Street Alley LotShape  \\\n",
              "0   1          60       RL         65.0     8450   Pave   NaN      Reg   \n",
              "1   2          20       RL         80.0     9600   Pave   NaN      Reg   \n",
              "2   3          60       RL         68.0    11250   Pave   NaN      IR1   \n",
              "3   4          70       RL         60.0     9550   Pave   NaN      IR1   \n",
              "4   5          60       RL         84.0    14260   Pave   NaN      IR1   \n",
              "\n",
              "  LandContour Utilities LotConfig LandSlope Neighborhood Condition1  \\\n",
              "0         Lvl    AllPub    Inside       Gtl      CollgCr       Norm   \n",
              "1         Lvl    AllPub       FR2       Gtl      Veenker      Feedr   \n",
              "2         Lvl    AllPub    Inside       Gtl      CollgCr       Norm   \n",
              "3         Lvl    AllPub    Corner       Gtl      Crawfor       Norm   \n",
              "4         Lvl    AllPub       FR2       Gtl      NoRidge       Norm   \n",
              "\n",
              "  Condition2 BldgType HouseStyle  OverallQual  OverallCond  YearBuilt  \\\n",
              "0       Norm     1Fam     2Story            7            5       2003   \n",
              "1       Norm     1Fam     1Story            6            8       1976   \n",
              "2       Norm     1Fam     2Story            7            5       2001   \n",
              "3       Norm     1Fam     2Story            7            5       1915   \n",
              "4       Norm     1Fam     2Story            8            5       2000   \n",
              "\n",
              "   YearRemodAdd RoofStyle RoofMatl Exterior1st Exterior2nd MasVnrType  \\\n",
              "0          2003     Gable  CompShg     VinylSd     VinylSd    BrkFace   \n",
              "1          1976     Gable  CompShg     MetalSd     MetalSd       None   \n",
              "2          2002     Gable  CompShg     VinylSd     VinylSd    BrkFace   \n",
              "3          1970     Gable  CompShg     Wd Sdng     Wd Shng       None   \n",
              "4          2000     Gable  CompShg     VinylSd     VinylSd    BrkFace   \n",
              "\n",
              "   MasVnrArea ExterQual ExterCond Foundation BsmtQual BsmtCond BsmtExposure  \\\n",
              "0       196.0        Gd        TA      PConc       Gd       TA           No   \n",
              "1         0.0        TA        TA     CBlock       Gd       TA           Gd   \n",
              "2       162.0        Gd        TA      PConc       Gd       TA           Mn   \n",
              "3         0.0        TA        TA     BrkTil       TA       Gd           No   \n",
              "4       350.0        Gd        TA      PConc       Gd       TA           Av   \n",
              "\n",
              "  BsmtFinType1  BsmtFinSF1 BsmtFinType2  BsmtFinSF2  BsmtUnfSF  TotalBsmtSF  \\\n",
              "0          GLQ         706          Unf           0        150          856   \n",
              "1          ALQ         978          Unf           0        284         1262   \n",
              "2          GLQ         486          Unf           0        434          920   \n",
              "3          ALQ         216          Unf           0        540          756   \n",
              "4          GLQ         655          Unf           0        490         1145   \n",
              "\n",
              "  Heating HeatingQC CentralAir Electrical  1stFlrSF  2ndFlrSF  LowQualFinSF  \\\n",
              "0    GasA        Ex          Y      SBrkr       856       854             0   \n",
              "1    GasA        Ex          Y      SBrkr      1262         0             0   \n",
              "2    GasA        Ex          Y      SBrkr       920       866             0   \n",
              "3    GasA        Gd          Y      SBrkr       961       756             0   \n",
              "4    GasA        Ex          Y      SBrkr      1145      1053             0   \n",
              "\n",
              "   GrLivArea  BsmtFullBath  BsmtHalfBath  FullBath  HalfBath  BedroomAbvGr  \\\n",
              "0       1710             1             0         2         1             3   \n",
              "1       1262             0             1         2         0             3   \n",
              "2       1786             1             0         2         1             3   \n",
              "3       1717             1             0         1         0             3   \n",
              "4       2198             1             0         2         1             4   \n",
              "\n",
              "   KitchenAbvGr KitchenQual  TotRmsAbvGrd Functional  Fireplaces FireplaceQu  \\\n",
              "0             1          Gd             8        Typ           0         NaN   \n",
              "1             1          TA             6        Typ           1          TA   \n",
              "2             1          Gd             6        Typ           1          TA   \n",
              "3             1          Gd             7        Typ           1          Gd   \n",
              "4             1          Gd             9        Typ           1          TA   \n",
              "\n",
              "  GarageType  GarageYrBlt GarageFinish  GarageCars  GarageArea GarageQual  \\\n",
              "0     Attchd       2003.0          RFn           2         548         TA   \n",
              "1     Attchd       1976.0          RFn           2         460         TA   \n",
              "2     Attchd       2001.0          RFn           2         608         TA   \n",
              "3     Detchd       1998.0          Unf           3         642         TA   \n",
              "4     Attchd       2000.0          RFn           3         836         TA   \n",
              "\n",
              "  GarageCond PavedDrive  WoodDeckSF  OpenPorchSF  EnclosedPorch  3SsnPorch  \\\n",
              "0         TA          Y           0           61              0          0   \n",
              "1         TA          Y         298            0              0          0   \n",
              "2         TA          Y           0           42              0          0   \n",
              "3         TA          Y           0           35            272          0   \n",
              "4         TA          Y         192           84              0          0   \n",
              "\n",
              "   ScreenPorch  PoolArea PoolQC Fence MiscFeature  MiscVal  MoSold  YrSold  \\\n",
              "0            0         0    NaN   NaN         NaN        0       2    2008   \n",
              "1            0         0    NaN   NaN         NaN        0       5    2007   \n",
              "2            0         0    NaN   NaN         NaN        0       9    2008   \n",
              "3            0         0    NaN   NaN         NaN        0       2    2006   \n",
              "4            0         0    NaN   NaN         NaN        0      12    2008   \n",
              "\n",
              "  SaleType SaleCondition  SalePrice  \n",
              "0       WD        Normal     208500  \n",
              "1       WD        Normal     181500  \n",
              "2       WD        Normal     223500  \n",
              "3       WD       Abnorml     140000  \n",
              "4       WD        Normal     250000  "
            ]
          },
          "execution_count": 7,
          "metadata": {},
          "output_type": "execute_result"
        }
      ],
      "source": [
        "data.head()"
      ]
    },
    {
      "cell_type": "markdown",
      "id": "f5d604c8-7d36-4b31-9778-bcd63fba555a",
      "metadata": {
        "tags": [],
        "id": "f5d604c8-7d36-4b31-9778-bcd63fba555a"
      },
      "source": [
        "# Soal Nomor 1"
      ]
    },
    {
      "cell_type": "code",
      "execution_count": null,
      "id": "36dda33c-c825-4a2f-8304-12e86214a589",
      "metadata": {
        "id": "36dda33c-c825-4a2f-8304-12e86214a589"
      },
      "outputs": [],
      "source": [
        "a = data['SalePrice']"
      ]
    },
    {
      "cell_type": "markdown",
      "id": "450a05cd-fa6c-4613-90a9-23a37624e568",
      "metadata": {
        "id": "450a05cd-fa6c-4613-90a9-23a37624e568"
      },
      "source": [
        "#### Ukuran Pemusatan"
      ]
    },
    {
      "cell_type": "code",
      "execution_count": null,
      "id": "bd196649-b0b7-42a8-b3be-bd771ae1b230",
      "metadata": {
        "id": "bd196649-b0b7-42a8-b3be-bd771ae1b230",
        "outputId": "663dab07-fa48-4791-a206-243465822baf"
      },
      "outputs": [
        {
          "name": "stdout",
          "output_type": "stream",
          "text": [
            "rata-rata:  180921.19589041095\n",
            "median:  163000.0\n",
            "modus:  140000\n",
            "percentile:  278000.0\n",
            "Q1:  129975.0\n",
            "Q2:  163000.0\n",
            "Q3:  214000.0\n"
          ]
        }
      ],
      "source": [
        "print('rata-rata: ',a.mean())\n",
        "print('median: ',a.median())\n",
        "print('modus: ',a.mode()[0])\n",
        "print('percentile: ',a.quantile(0.9))\n",
        "print('Q1: ',a.quantile(0.25))\n",
        "print('Q2: ',a.quantile(0.5))\n",
        "print('Q3: ',a.quantile(0.75))"
      ]
    },
    {
      "cell_type": "markdown",
      "id": "5cb1ef48-891f-4543-84e5-afc7c263a865",
      "metadata": {
        "id": "5cb1ef48-891f-4543-84e5-afc7c263a865"
      },
      "source": [
        "#### Ukuran Penyebaran"
      ]
    },
    {
      "cell_type": "code",
      "execution_count": null,
      "id": "7c225145-31df-4218-b79f-731f9ac0efa2",
      "metadata": {
        "id": "7c225145-31df-4218-b79f-731f9ac0efa2",
        "outputId": "498ce1c4-d979-4f9e-f46f-c60168f6618f"
      },
      "outputs": [
        {
          "name": "stdout",
          "output_type": "stream",
          "text": [
            "variance:  6311111264.297451\n",
            "standar deviasi:  79442.50288288663\n",
            "inter quartile range:  84025.0\n",
            "range:  720100\n"
          ]
        }
      ],
      "source": [
        "print('variance: ',a.var())\n",
        "print('standar deviasi: ',a.std())\n",
        "print('inter quartile range: ',a.quantile(0.75)-a.quantile(0.25))\n",
        "print('range: ',a.max()-a.min())"
      ]
    },
    {
      "cell_type": "markdown",
      "id": "4fdd3fae-a7d1-442d-ae4a-4fd81cdc7b12",
      "metadata": {
        "id": "4fdd3fae-a7d1-442d-ae4a-4fd81cdc7b12"
      },
      "source": [
        "#### Interpretasi"
      ]
    },
    {
      "cell_type": "markdown",
      "id": "6a94c5e9-e721-4399-8833-3e9f01ef57f4",
      "metadata": {
        "id": "6a94c5e9-e721-4399-8833-3e9f01ef57f4"
      },
      "source": [
        "dilihat dari nilai mean yang lebih besar dari median, maka tipe distribusi datanya adalah tipe positively skewed. hal ini bisa disebabkan oleh harga dari rumah yang lebih mewah memilihi harga yang juga sangat mahal, sehingga membuat rata-rata harga menjadi tinggi. Sementara range harga rumah yang diminati adalah 129975 (Q1) - 214000 (Q3)."
      ]
    },
    {
      "cell_type": "markdown",
      "id": "df2a4ff6-d35d-4755-8ae9-6d6a04465b81",
      "metadata": {
        "id": "df2a4ff6-d35d-4755-8ae9-6d6a04465b81"
      },
      "source": [
        "# Soal Nomor 2"
      ]
    },
    {
      "cell_type": "markdown",
      "id": "a8bcf4c3-8ee8-4b80-b03d-f9131dd16f61",
      "metadata": {
        "id": "a8bcf4c3-8ee8-4b80-b03d-f9131dd16f61"
      },
      "source": [
        "#### Ukuran Pemusatan"
      ]
    },
    {
      "cell_type": "code",
      "execution_count": null,
      "id": "2b35f6da-a950-4723-add4-49fe180b8120",
      "metadata": {
        "id": "2b35f6da-a950-4723-add4-49fe180b8120"
      },
      "outputs": [],
      "source": [
        "def modus(a):\n",
        "    return a.mode()[0]"
      ]
    },
    {
      "cell_type": "code",
      "execution_count": null,
      "id": "6150b545-7394-4e14-9aa2-c177d625ef09",
      "metadata": {
        "id": "6150b545-7394-4e14-9aa2-c177d625ef09"
      },
      "outputs": [],
      "source": [
        "def percentile(a):\n",
        "    return a.quantile(0.9)"
      ]
    },
    {
      "cell_type": "code",
      "execution_count": null,
      "id": "c8872b1a-da67-4013-a947-97678bc37bdc",
      "metadata": {
        "id": "c8872b1a-da67-4013-a947-97678bc37bdc"
      },
      "outputs": [],
      "source": [
        "def q1(a):\n",
        "    return a.quantile(0.25)"
      ]
    },
    {
      "cell_type": "code",
      "execution_count": null,
      "id": "de66452b-1beb-41b7-8c31-0a8b3d560181",
      "metadata": {
        "id": "de66452b-1beb-41b7-8c31-0a8b3d560181"
      },
      "outputs": [],
      "source": [
        "def q2(a):\n",
        "    return a.quantile(0.5)"
      ]
    },
    {
      "cell_type": "code",
      "execution_count": null,
      "id": "a3066a79-9f97-4fec-8033-d92c1b386b1e",
      "metadata": {
        "id": "a3066a79-9f97-4fec-8033-d92c1b386b1e"
      },
      "outputs": [],
      "source": [
        "def q3(a):\n",
        "    return a.quantile(0.75)"
      ]
    },
    {
      "cell_type": "code",
      "execution_count": null,
      "id": "60be839f-2922-4294-a509-10cfeaa50b27",
      "metadata": {
        "id": "60be839f-2922-4294-a509-10cfeaa50b27",
        "outputId": "2296d8a3-a1df-4ede-849d-866a14602706"
      },
      "outputs": [
        {
          "data": {
            "text/html": [
              "<div>\n",
              "<style scoped>\n",
              "    .dataframe tbody tr th:only-of-type {\n",
              "        vertical-align: middle;\n",
              "    }\n",
              "\n",
              "    .dataframe tbody tr th {\n",
              "        vertical-align: top;\n",
              "    }\n",
              "\n",
              "    .dataframe thead tr th {\n",
              "        text-align: left;\n",
              "    }\n",
              "\n",
              "    .dataframe thead tr:last-of-type th {\n",
              "        text-align: right;\n",
              "    }\n",
              "</style>\n",
              "<table border=\"1\" class=\"dataframe\">\n",
              "  <thead>\n",
              "    <tr>\n",
              "      <th></th>\n",
              "      <th colspan=\"7\" halign=\"left\">SalePrice</th>\n",
              "    </tr>\n",
              "    <tr>\n",
              "      <th></th>\n",
              "      <th>mean</th>\n",
              "      <th>median</th>\n",
              "      <th>modus</th>\n",
              "      <th>percentile</th>\n",
              "      <th>q1</th>\n",
              "      <th>q2</th>\n",
              "      <th>q3</th>\n",
              "    </tr>\n",
              "    <tr>\n",
              "      <th>YrSold</th>\n",
              "      <th></th>\n",
              "      <th></th>\n",
              "      <th></th>\n",
              "      <th></th>\n",
              "      <th></th>\n",
              "      <th></th>\n",
              "      <th></th>\n",
              "    </tr>\n",
              "  </thead>\n",
              "  <tbody>\n",
              "    <tr>\n",
              "      <th>2006</th>\n",
              "      <td>182549.458599</td>\n",
              "      <td>163995.0</td>\n",
              "      <td>140000</td>\n",
              "      <td>275000.0</td>\n",
              "      <td>131375.0</td>\n",
              "      <td>163995.0</td>\n",
              "      <td>218782.5</td>\n",
              "    </tr>\n",
              "    <tr>\n",
              "      <th>2007</th>\n",
              "      <td>186063.151976</td>\n",
              "      <td>167000.0</td>\n",
              "      <td>129000</td>\n",
              "      <td>290000.0</td>\n",
              "      <td>129900.0</td>\n",
              "      <td>167000.0</td>\n",
              "      <td>219500.0</td>\n",
              "    </tr>\n",
              "    <tr>\n",
              "      <th>2008</th>\n",
              "      <td>177360.838816</td>\n",
              "      <td>164000.0</td>\n",
              "      <td>140000</td>\n",
              "      <td>271000.0</td>\n",
              "      <td>131250.0</td>\n",
              "      <td>164000.0</td>\n",
              "      <td>207000.0</td>\n",
              "    </tr>\n",
              "    <tr>\n",
              "      <th>2009</th>\n",
              "      <td>179432.103550</td>\n",
              "      <td>162000.0</td>\n",
              "      <td>110000</td>\n",
              "      <td>275900.0</td>\n",
              "      <td>125250.0</td>\n",
              "      <td>162000.0</td>\n",
              "      <td>212750.0</td>\n",
              "    </tr>\n",
              "    <tr>\n",
              "      <th>2010</th>\n",
              "      <td>177393.674286</td>\n",
              "      <td>155000.0</td>\n",
              "      <td>128000</td>\n",
              "      <td>264900.0</td>\n",
              "      <td>128100.0</td>\n",
              "      <td>155000.0</td>\n",
              "      <td>213250.0</td>\n",
              "    </tr>\n",
              "  </tbody>\n",
              "</table>\n",
              "</div>"
            ],
            "text/plain": [
              "            SalePrice                                                   \\\n",
              "                 mean    median   modus percentile        q1        q2   \n",
              "YrSold                                                                   \n",
              "2006    182549.458599  163995.0  140000   275000.0  131375.0  163995.0   \n",
              "2007    186063.151976  167000.0  129000   290000.0  129900.0  167000.0   \n",
              "2008    177360.838816  164000.0  140000   271000.0  131250.0  164000.0   \n",
              "2009    179432.103550  162000.0  110000   275900.0  125250.0  162000.0   \n",
              "2010    177393.674286  155000.0  128000   264900.0  128100.0  155000.0   \n",
              "\n",
              "                  \n",
              "              q3  \n",
              "YrSold            \n",
              "2006    218782.5  \n",
              "2007    219500.0  \n",
              "2008    207000.0  \n",
              "2009    212750.0  \n",
              "2010    213250.0  "
            ]
          },
          "execution_count": 13,
          "metadata": {},
          "output_type": "execute_result"
        }
      ],
      "source": [
        "data.groupby('YrSold').agg({'SalePrice':['mean','median', modus, percentile, q1, q2, q3]})"
      ]
    },
    {
      "cell_type": "markdown",
      "id": "2c2c518c-ff69-41f5-802c-2ee68efb1d8a",
      "metadata": {
        "id": "2c2c518c-ff69-41f5-802c-2ee68efb1d8a"
      },
      "source": [
        "#### Ukuran Penyebaran"
      ]
    },
    {
      "cell_type": "code",
      "execution_count": null,
      "id": "9ccf559d-bd02-4d83-957e-ea2af77fb84d",
      "metadata": {
        "id": "9ccf559d-bd02-4d83-957e-ea2af77fb84d"
      },
      "outputs": [],
      "source": [
        "def iqr(a):\n",
        "    return a.quantile(0.75)-a.quantile(0.25)"
      ]
    },
    {
      "cell_type": "code",
      "execution_count": null,
      "id": "217144df-c466-4f70-9caf-081915e34ea7",
      "metadata": {
        "id": "217144df-c466-4f70-9caf-081915e34ea7"
      },
      "outputs": [],
      "source": [
        "def rangee(a):\n",
        "    return a.max()-a.min()"
      ]
    },
    {
      "cell_type": "code",
      "execution_count": null,
      "id": "954c31c8-9015-45d1-a0bd-d87183f985cf",
      "metadata": {
        "id": "954c31c8-9015-45d1-a0bd-d87183f985cf",
        "outputId": "f8a89eb1-de33-497b-97cc-ec51d6229394"
      },
      "outputs": [
        {
          "data": {
            "text/html": [
              "<div>\n",
              "<style scoped>\n",
              "    .dataframe tbody tr th:only-of-type {\n",
              "        vertical-align: middle;\n",
              "    }\n",
              "\n",
              "    .dataframe tbody tr th {\n",
              "        vertical-align: top;\n",
              "    }\n",
              "\n",
              "    .dataframe thead tr th {\n",
              "        text-align: left;\n",
              "    }\n",
              "\n",
              "    .dataframe thead tr:last-of-type th {\n",
              "        text-align: right;\n",
              "    }\n",
              "</style>\n",
              "<table border=\"1\" class=\"dataframe\">\n",
              "  <thead>\n",
              "    <tr>\n",
              "      <th></th>\n",
              "      <th colspan=\"4\" halign=\"left\">SalePrice</th>\n",
              "    </tr>\n",
              "    <tr>\n",
              "      <th></th>\n",
              "      <th>var</th>\n",
              "      <th>std</th>\n",
              "      <th>rangee</th>\n",
              "      <th>iqr</th>\n",
              "    </tr>\n",
              "    <tr>\n",
              "      <th>YrSold</th>\n",
              "      <th></th>\n",
              "      <th></th>\n",
              "      <th></th>\n",
              "      <th></th>\n",
              "    </tr>\n",
              "  </thead>\n",
              "  <tbody>\n",
              "    <tr>\n",
              "      <th>2006</th>\n",
              "      <td>6.308623e+09</td>\n",
              "      <td>79426.838855</td>\n",
              "      <td>589689</td>\n",
              "      <td>87407.5</td>\n",
              "    </tr>\n",
              "    <tr>\n",
              "      <th>2007</th>\n",
              "      <td>7.356179e+09</td>\n",
              "      <td>85768.171410</td>\n",
              "      <td>715700</td>\n",
              "      <td>89600.0</td>\n",
              "    </tr>\n",
              "    <tr>\n",
              "      <th>2008</th>\n",
              "      <td>4.863055e+09</td>\n",
              "      <td>69735.610685</td>\n",
              "      <td>406261</td>\n",
              "      <td>75750.0</td>\n",
              "    </tr>\n",
              "    <tr>\n",
              "      <th>2009</th>\n",
              "      <td>6.541451e+09</td>\n",
              "      <td>80879.237311</td>\n",
              "      <td>548033</td>\n",
              "      <td>87500.0</td>\n",
              "    </tr>\n",
              "    <tr>\n",
              "      <th>2010</th>\n",
              "      <td>6.472408e+09</td>\n",
              "      <td>80451.280085</td>\n",
              "      <td>556657</td>\n",
              "      <td>85150.0</td>\n",
              "    </tr>\n",
              "  </tbody>\n",
              "</table>\n",
              "</div>"
            ],
            "text/plain": [
              "           SalePrice                               \n",
              "                 var           std  rangee      iqr\n",
              "YrSold                                             \n",
              "2006    6.308623e+09  79426.838855  589689  87407.5\n",
              "2007    7.356179e+09  85768.171410  715700  89600.0\n",
              "2008    4.863055e+09  69735.610685  406261  75750.0\n",
              "2009    6.541451e+09  80879.237311  548033  87500.0\n",
              "2010    6.472408e+09  80451.280085  556657  85150.0"
            ]
          },
          "execution_count": 16,
          "metadata": {},
          "output_type": "execute_result"
        }
      ],
      "source": [
        "data.groupby('YrSold').agg({'SalePrice':['var', 'std', rangee, iqr]})"
      ]
    },
    {
      "cell_type": "markdown",
      "id": "0ef863b6-cc69-42c1-8f02-a3381898a54c",
      "metadata": {
        "id": "0ef863b6-cc69-42c1-8f02-a3381898a54c"
      },
      "source": [
        "#### Interpretasi"
      ]
    },
    {
      "cell_type": "markdown",
      "id": "8ccf7aa6-0d37-49dd-8738-bad7cc656203",
      "metadata": {
        "id": "8ccf7aa6-0d37-49dd-8738-bad7cc656203"
      },
      "source": [
        "Berdasarkan keterangan di atas dapat diketahui bahwa setiapp tahunnya nilai mean selalu lebih besar dibandingkan nilai median, yang berarti tipe distribusi data tidap tahunnya adala positif skewed."
      ]
    },
    {
      "cell_type": "markdown",
      "id": "0a00b158-b0ee-451a-ad6d-08e7c75a5f81",
      "metadata": {
        "id": "0a00b158-b0ee-451a-ad6d-08e7c75a5f81"
      },
      "source": [
        "# Soal Nomor 3"
      ]
    },
    {
      "cell_type": "markdown",
      "id": "16d97356-567e-4ded-b98b-1855b1ca5a47",
      "metadata": {
        "id": "16d97356-567e-4ded-b98b-1855b1ca5a47"
      },
      "source": [
        "#### Grafik Histogram"
      ]
    },
    {
      "cell_type": "code",
      "execution_count": null,
      "id": "88da520b-74f2-42fe-9a3f-24393a2c2ac9",
      "metadata": {
        "id": "88da520b-74f2-42fe-9a3f-24393a2c2ac9",
        "outputId": "29184444-9089-4dc3-e072-b35ad8bdc790"
      },
      "outputs": [
        {
          "data": {
            "image/png": "[encoded data removed]",
            "text/plain": [
              "<Figure size 576x360 with 1 Axes>"
            ]
          },
          "metadata": {
            "needs_background": "light"
          },
          "output_type": "display_data"
        }
      ],
      "source": [
        "plt.figure(figsize=(8,5))\n",
        "sns.histplot(x = data['SalePrice'], data = data,\n",
        "            color = 'hotpink',\n",
        "            edgecolor= 'deeppink', \n",
        "            linewidth = 3)\n",
        "\n",
        "plt.title('Grafik Distribusi Sale Price Positively Skewed',color='indigo',fontsize=18,fontweight='bold')\n",
        "plt.xlabel('Sale Price', color= 'darkmagenta', fontsize=15) # x axis label\n",
        "plt.tick_params(axis = 'both', which = 'major', labelsize = 14);\n",
        "plt.ylim(0,250)\n",
        "plt.tight_layout()\n",
        "plt.show()"
      ]
    },
    {
      "cell_type": "markdown",
      "id": "7ff01b87-4ebf-4c05-8a6b-f9ded310574c",
      "metadata": {
        "id": "7ff01b87-4ebf-4c05-8a6b-f9ded310574c"
      },
      "source": [
        "#### Analisa"
      ]
    },
    {
      "cell_type": "markdown",
      "id": "17136363-f816-48cb-b3f6-36ec8ca0a2f8",
      "metadata": {
        "id": "17136363-f816-48cb-b3f6-36ec8ca0a2f8"
      },
      "source": [
        "Dari grafik diketahui bahwa tipe distribusi data adalah postively skewed. ukuran pemusatan data yang cocok digunakan adalah median. "
      ]
    },
    {
      "cell_type": "markdown",
      "id": "6e48bf2e-e470-48df-b308-235f302864be",
      "metadata": {
        "id": "6e48bf2e-e470-48df-b308-235f302864be"
      },
      "source": [
        "#### Interpretasi"
      ]
    },
    {
      "cell_type": "markdown",
      "id": "e21cf6d6-db88-4a14-9b88-79bb0aec8447",
      "metadata": {
        "id": "e21cf6d6-db88-4a14-9b88-79bb0aec8447"
      },
      "source": [
        "Dari grafik diketahui bahwa tipe distribusi data adalah postively skewed, dimana mean > median > modus. dari grafik diketahui bahwa terdapat data pencilan (outlier) yang banyak disebelah kanan sehingga rata-rata tertarik ke sebelah kanan, yaitu harga rumah mewah yang lebih tinggi dibanding jenis rumah lainnya. Adanya outlier menyebabkan ukuran pemusatan tidak dapat menggunakan rata-rata, karena rata-rata sangat dipengaruhi oleh data pencilan. Sehingga ukuran pemusatan yang dapat digunakan adalah median karena tidak dipengaruhi oleh outlier, sehingga sangat cocok digunakan untuk mewakili data yang distribusinya tidak homogen."
      ]
    },
    {
      "cell_type": "markdown",
      "id": "8621ca2c-4095-4c02-92cf-7d8ff11af8d2",
      "metadata": {
        "id": "8621ca2c-4095-4c02-92cf-7d8ff11af8d2"
      },
      "source": [
        "# Soal Nomor 4"
      ]
    },
    {
      "cell_type": "markdown",
      "id": "e64f8881-d13c-419b-aad1-165d74d33fea",
      "metadata": {
        "id": "e64f8881-d13c-419b-aad1-165d74d33fea"
      },
      "source": [
        "#### Penentuan hipotesis"
      ]
    },
    {
      "cell_type": "markdown",
      "id": "9c764c8a-56ba-4aa1-910e-212e2784c6ed",
      "metadata": {
        "id": "9c764c8a-56ba-4aa1-910e-212e2784c6ed"
      },
      "source": [
        "Pernyataan hipotesis: Harga rumah setiap tahun naik"
      ]
    },
    {
      "cell_type": "markdown",
      "id": "8e3041a6-e6e5-42b5-9523-718abbdf10b6",
      "metadata": {
        "id": "8e3041a6-e6e5-42b5-9523-718abbdf10b6"
      },
      "source": [
        "H0 = rata-rata dari harga rumah setiap tahunnya tidak terdapat perbedaan yang nyata //\n",
        "H1 = rata-rata dari harga rumah setiap tahunnya berbeda"
      ]
    },
    {
      "cell_type": "markdown",
      "id": "8e32587f-9d9b-4be4-b792-1f97c2275e6e",
      "metadata": {
        "id": "8e32587f-9d9b-4be4-b792-1f97c2275e6e"
      },
      "source": [
        "#### Pengujian yang digunakan "
      ]
    },
    {
      "cell_type": "markdown",
      "id": "0cf152dd-2116-491c-ac90-510fe9788b68",
      "metadata": {
        "id": "0cf152dd-2116-491c-ac90-510fe9788b68"
      },
      "source": [
        "one way ANOVA"
      ]
    },
    {
      "cell_type": "markdown",
      "id": "d75ca2c2-07a1-467e-a9f1-a1ecd43b1680",
      "metadata": {
        "id": "d75ca2c2-07a1-467e-a9f1-a1ecd43b1680"
      },
      "source": [
        "#### Hasil pengujian hipotesis"
      ]
    },
    {
      "cell_type": "code",
      "execution_count": null,
      "id": "8037b38a-ff61-4856-b542-3c8d5e90c48e",
      "metadata": {
        "id": "8037b38a-ff61-4856-b542-3c8d5e90c48e",
        "outputId": "6f0f08c0-9a38-4882-9c22-57ea348750b3"
      },
      "outputs": [
        {
          "data": {
            "text/html": [
              "<div>\n",
              "<style scoped>\n",
              "    .dataframe tbody tr th:only-of-type {\n",
              "        vertical-align: middle;\n",
              "    }\n",
              "\n",
              "    .dataframe tbody tr th {\n",
              "        vertical-align: top;\n",
              "    }\n",
              "\n",
              "    .dataframe thead tr th {\n",
              "        text-align: left;\n",
              "    }\n",
              "\n",
              "    .dataframe thead tr:last-of-type th {\n",
              "        text-align: right;\n",
              "    }\n",
              "</style>\n",
              "<table border=\"1\" class=\"dataframe\">\n",
              "  <thead>\n",
              "    <tr>\n",
              "      <th></th>\n",
              "      <th>SalePrice</th>\n",
              "    </tr>\n",
              "    <tr>\n",
              "      <th></th>\n",
              "      <th>mean</th>\n",
              "    </tr>\n",
              "    <tr>\n",
              "      <th>YrSold</th>\n",
              "      <th></th>\n",
              "    </tr>\n",
              "  </thead>\n",
              "  <tbody>\n",
              "    <tr>\n",
              "      <th>2006</th>\n",
              "      <td>182549.458599</td>\n",
              "    </tr>\n",
              "    <tr>\n",
              "      <th>2007</th>\n",
              "      <td>186063.151976</td>\n",
              "    </tr>\n",
              "    <tr>\n",
              "      <th>2008</th>\n",
              "      <td>177360.838816</td>\n",
              "    </tr>\n",
              "    <tr>\n",
              "      <th>2009</th>\n",
              "      <td>179432.103550</td>\n",
              "    </tr>\n",
              "    <tr>\n",
              "      <th>2010</th>\n",
              "      <td>177393.674286</td>\n",
              "    </tr>\n",
              "  </tbody>\n",
              "</table>\n",
              "</div>"
            ],
            "text/plain": [
              "            SalePrice\n",
              "                 mean\n",
              "YrSold               \n",
              "2006    182549.458599\n",
              "2007    186063.151976\n",
              "2008    177360.838816\n",
              "2009    179432.103550\n",
              "2010    177393.674286"
            ]
          },
          "execution_count": 28,
          "metadata": {},
          "output_type": "execute_result"
        }
      ],
      "source": [
        "data.groupby('YrSold').agg({'SalePrice':['mean']})"
      ]
    },
    {
      "cell_type": "code",
      "execution_count": null,
      "id": "f7824a17-aafd-49ee-91d3-f9568d2b134d",
      "metadata": {
        "id": "f7824a17-aafd-49ee-91d3-f9568d2b134d"
      },
      "outputs": [],
      "source": [
        "df1 = data[data['YrSold'] == 2006]\n",
        "df2 = data[data['YrSold'] == 2007]\n",
        "df3 = data[data['YrSold'] == 2008]\n",
        "df4 = data[data['YrSold'] == 2009]\n",
        "df5 = data[data['YrSold'] == 2010]"
      ]
    },
    {
      "cell_type": "code",
      "execution_count": null,
      "id": "2a22cbf6-03b2-417e-88d7-7040cf014d7a",
      "metadata": {
        "id": "2a22cbf6-03b2-417e-88d7-7040cf014d7a"
      },
      "outputs": [],
      "source": [
        "ftest = st.f_oneway(df1['SalePrice'],df2['SalePrice'],df3['SalePrice'],df4['SalePrice'],df5['SalePrice'])"
      ]
    },
    {
      "cell_type": "code",
      "execution_count": null,
      "id": "dc0d1868-ab12-4996-9e64-221f4de54e90",
      "metadata": {
        "id": "dc0d1868-ab12-4996-9e64-221f4de54e90",
        "outputId": "9d02e29c-984c-453a-b67f-2f8e0a95d385"
      },
      "outputs": [
        {
          "data": {
            "text/plain": [
              "0.6300887663573457"
            ]
          },
          "execution_count": 31,
          "metadata": {},
          "output_type": "execute_result"
        }
      ],
      "source": [
        "pvalue = ftest.pvalue\n",
        "pvalue"
      ]
    },
    {
      "cell_type": "code",
      "execution_count": null,
      "id": "2156c425-946f-4b66-8a11-36557051365b",
      "metadata": {
        "id": "2156c425-946f-4b66-8a11-36557051365b",
        "outputId": "2e288843-e2bd-467f-99fe-4b04eefc4a5b"
      },
      "outputs": [
        {
          "name": "stdout",
          "output_type": "stream",
          "text": [
            "0.6300887663573457\n",
            "Insufficient Reject H0\n"
          ]
        }
      ],
      "source": [
        "print(pvalue)\n",
        "if pvalue >= 0.05:\n",
        "  print('Insufficient Reject H0')\n",
        "else:\n",
        "  print('Sufficient Reject H0')"
      ]
    },
    {
      "cell_type": "markdown",
      "id": "d32edc31-6729-4d05-971d-52ce6dffa056",
      "metadata": {
        "id": "d32edc31-6729-4d05-971d-52ce6dffa056"
      },
      "source": [
        "#### Kesimpulan dan interpretasi"
      ]
    },
    {
      "cell_type": "markdown",
      "id": "33b6728d-3aac-4167-bba4-87b579546bea",
      "metadata": {
        "id": "33b6728d-3aac-4167-bba4-87b579546bea"
      },
      "source": [
        "berdasarkan hasil uji anova dapat disimpulkan bahwa rata-rata harga rumah setiap tahunnya tidak terdapat perbedaan atau kenaikan yang nyata. hal ini terlihat dari perhitungan rata-rata harga rumah setiap tahunnya yang tidak berbeda jauh yaitu pada range 177360.838816 - 186063.151976."
      ]
    },
    {
      "cell_type": "markdown",
      "id": "ac6fa063-40d2-4a75-b0c2-9024d2d8a997",
      "metadata": {
        "id": "ac6fa063-40d2-4a75-b0c2-9024d2d8a997"
      },
      "source": [
        "# Soal Nomor 5"
      ]
    },
    {
      "cell_type": "code",
      "execution_count": null,
      "id": "6bf8835d-3e70-406d-a0e8-15ba5e1d7f0d",
      "metadata": {
        "id": "6bf8835d-3e70-406d-a0e8-15ba5e1d7f0d"
      },
      "outputs": [],
      "source": [
        "db = pd.read_csv('bank-full.csv', engine='python', sep=None)"
      ]
    },
    {
      "cell_type": "code",
      "execution_count": null,
      "id": "a42e7275-8cbc-40d4-a531-c7b0bec6f6f4",
      "metadata": {
        "id": "a42e7275-8cbc-40d4-a531-c7b0bec6f6f4",
        "outputId": "7aca48da-1fcb-4813-cb65-162ff693375e"
      },
      "outputs": [
        {
          "data": {
            "text/html": [
              "<div>\n",
              "<style scoped>\n",
              "    .dataframe tbody tr th:only-of-type {\n",
              "        vertical-align: middle;\n",
              "    }\n",
              "\n",
              "    .dataframe tbody tr th {\n",
              "        vertical-align: top;\n",
              "    }\n",
              "\n",
              "    .dataframe thead th {\n",
              "        text-align: right;\n",
              "    }\n",
              "</style>\n",
              "<table border=\"1\" class=\"dataframe\">\n",
              "  <thead>\n",
              "    <tr style=\"text-align: right;\">\n",
              "      <th></th>\n",
              "      <th>age</th>\n",
              "      <th>job</th>\n",
              "      <th>marital</th>\n",
              "      <th>education</th>\n",
              "      <th>default</th>\n",
              "      <th>balance</th>\n",
              "      <th>housing</th>\n",
              "      <th>loan</th>\n",
              "      <th>contact</th>\n",
              "      <th>day</th>\n",
              "      <th>month</th>\n",
              "      <th>duration</th>\n",
              "      <th>campaign</th>\n",
              "      <th>pdays</th>\n",
              "      <th>previous</th>\n",
              "      <th>poutcome</th>\n",
              "      <th>y</th>\n",
              "    </tr>\n",
              "  </thead>\n",
              "  <tbody>\n",
              "    <tr>\n",
              "      <th>0</th>\n",
              "      <td>58</td>\n",
              "      <td>management</td>\n",
              "      <td>married</td>\n",
              "      <td>tertiary</td>\n",
              "      <td>no</td>\n",
              "      <td>2143</td>\n",
              "      <td>yes</td>\n",
              "      <td>no</td>\n",
              "      <td>unknown</td>\n",
              "      <td>5</td>\n",
              "      <td>may</td>\n",
              "      <td>261</td>\n",
              "      <td>1</td>\n",
              "      <td>-1</td>\n",
              "      <td>0</td>\n",
              "      <td>unknown</td>\n",
              "      <td>no</td>\n",
              "    </tr>\n",
              "    <tr>\n",
              "      <th>1</th>\n",
              "      <td>44</td>\n",
              "      <td>technician</td>\n",
              "      <td>single</td>\n",
              "      <td>secondary</td>\n",
              "      <td>no</td>\n",
              "      <td>29</td>\n",
              "      <td>yes</td>\n",
              "      <td>no</td>\n",
              "      <td>unknown</td>\n",
              "      <td>5</td>\n",
              "      <td>may</td>\n",
              "      <td>151</td>\n",
              "      <td>1</td>\n",
              "      <td>-1</td>\n",
              "      <td>0</td>\n",
              "      <td>unknown</td>\n",
              "      <td>no</td>\n",
              "    </tr>\n",
              "    <tr>\n",
              "      <th>2</th>\n",
              "      <td>33</td>\n",
              "      <td>entrepreneur</td>\n",
              "      <td>married</td>\n",
              "      <td>secondary</td>\n",
              "      <td>no</td>\n",
              "      <td>2</td>\n",
              "      <td>yes</td>\n",
              "      <td>yes</td>\n",
              "      <td>unknown</td>\n",
              "      <td>5</td>\n",
              "      <td>may</td>\n",
              "      <td>76</td>\n",
              "      <td>1</td>\n",
              "      <td>-1</td>\n",
              "      <td>0</td>\n",
              "      <td>unknown</td>\n",
              "      <td>no</td>\n",
              "    </tr>\n",
              "    <tr>\n",
              "      <th>3</th>\n",
              "      <td>47</td>\n",
              "      <td>blue-collar</td>\n",
              "      <td>married</td>\n",
              "      <td>unknown</td>\n",
              "      <td>no</td>\n",
              "      <td>1506</td>\n",
              "      <td>yes</td>\n",
              "      <td>no</td>\n",
              "      <td>unknown</td>\n",
              "      <td>5</td>\n",
              "      <td>may</td>\n",
              "      <td>92</td>\n",
              "      <td>1</td>\n",
              "      <td>-1</td>\n",
              "      <td>0</td>\n",
              "      <td>unknown</td>\n",
              "      <td>no</td>\n",
              "    </tr>\n",
              "    <tr>\n",
              "      <th>4</th>\n",
              "      <td>33</td>\n",
              "      <td>unknown</td>\n",
              "      <td>single</td>\n",
              "      <td>unknown</td>\n",
              "      <td>no</td>\n",
              "      <td>1</td>\n",
              "      <td>no</td>\n",
              "      <td>no</td>\n",
              "      <td>unknown</td>\n",
              "      <td>5</td>\n",
              "      <td>may</td>\n",
              "      <td>198</td>\n",
              "      <td>1</td>\n",
              "      <td>-1</td>\n",
              "      <td>0</td>\n",
              "      <td>unknown</td>\n",
              "      <td>no</td>\n",
              "    </tr>\n",
              "    <tr>\n",
              "      <th>...</th>\n",
              "      <td>...</td>\n",
              "      <td>...</td>\n",
              "      <td>...</td>\n",
              "      <td>...</td>\n",
              "      <td>...</td>\n",
              "      <td>...</td>\n",
              "      <td>...</td>\n",
              "      <td>...</td>\n",
              "      <td>...</td>\n",
              "      <td>...</td>\n",
              "      <td>...</td>\n",
              "      <td>...</td>\n",
              "      <td>...</td>\n",
              "      <td>...</td>\n",
              "      <td>...</td>\n",
              "      <td>...</td>\n",
              "      <td>...</td>\n",
              "    </tr>\n",
              "    <tr>\n",
              "      <th>45206</th>\n",
              "      <td>51</td>\n",
              "      <td>technician</td>\n",
              "      <td>married</td>\n",
              "      <td>tertiary</td>\n",
              "      <td>no</td>\n",
              "      <td>825</td>\n",
              "      <td>no</td>\n",
              "      <td>no</td>\n",
              "      <td>cellular</td>\n",
              "      <td>17</td>\n",
              "      <td>nov</td>\n",
              "      <td>977</td>\n",
              "      <td>3</td>\n",
              "      <td>-1</td>\n",
              "      <td>0</td>\n",
              "      <td>unknown</td>\n",
              "      <td>yes</td>\n",
              "    </tr>\n",
              "    <tr>\n",
              "      <th>45207</th>\n",
              "      <td>71</td>\n",
              "      <td>retired</td>\n",
              "      <td>divorced</td>\n",
              "      <td>primary</td>\n",
              "      <td>no</td>\n",
              "      <td>1729</td>\n",
              "      <td>no</td>\n",
              "      <td>no</td>\n",
              "      <td>cellular</td>\n",
              "      <td>17</td>\n",
              "      <td>nov</td>\n",
              "      <td>456</td>\n",
              "      <td>2</td>\n",
              "      <td>-1</td>\n",
              "      <td>0</td>\n",
              "      <td>unknown</td>\n",
              "      <td>yes</td>\n",
              "    </tr>\n",
              "    <tr>\n",
              "      <th>45208</th>\n",
              "      <td>72</td>\n",
              "      <td>retired</td>\n",
              "      <td>married</td>\n",
              "      <td>secondary</td>\n",
              "      <td>no</td>\n",
              "      <td>5715</td>\n",
              "      <td>no</td>\n",
              "      <td>no</td>\n",
              "      <td>cellular</td>\n",
              "      <td>17</td>\n",
              "      <td>nov</td>\n",
              "      <td>1127</td>\n",
              "      <td>5</td>\n",
              "      <td>184</td>\n",
              "      <td>3</td>\n",
              "      <td>success</td>\n",
              "      <td>yes</td>\n",
              "    </tr>\n",
              "    <tr>\n",
              "      <th>45209</th>\n",
              "      <td>57</td>\n",
              "      <td>blue-collar</td>\n",
              "      <td>married</td>\n",
              "      <td>secondary</td>\n",
              "      <td>no</td>\n",
              "      <td>668</td>\n",
              "      <td>no</td>\n",
              "      <td>no</td>\n",
              "      <td>telephone</td>\n",
              "      <td>17</td>\n",
              "      <td>nov</td>\n",
              "      <td>508</td>\n",
              "      <td>4</td>\n",
              "      <td>-1</td>\n",
              "      <td>0</td>\n",
              "      <td>unknown</td>\n",
              "      <td>no</td>\n",
              "    </tr>\n",
              "    <tr>\n",
              "      <th>45210</th>\n",
              "      <td>37</td>\n",
              "      <td>entrepreneur</td>\n",
              "      <td>married</td>\n",
              "      <td>secondary</td>\n",
              "      <td>no</td>\n",
              "      <td>2971</td>\n",
              "      <td>no</td>\n",
              "      <td>no</td>\n",
              "      <td>cellular</td>\n",
              "      <td>17</td>\n",
              "      <td>nov</td>\n",
              "      <td>361</td>\n",
              "      <td>2</td>\n",
              "      <td>188</td>\n",
              "      <td>11</td>\n",
              "      <td>other</td>\n",
              "      <td>no</td>\n",
              "    </tr>\n",
              "  </tbody>\n",
              "</table>\n",
              "<p>45211 rows × 17 columns</p>\n",
              "</div>"
            ],
            "text/plain": [
              "       age           job   marital  education default  balance housing loan  \\\n",
              "0       58    management   married   tertiary      no     2143     yes   no   \n",
              "1       44    technician    single  secondary      no       29     yes   no   \n",
              "2       33  entrepreneur   married  secondary      no        2     yes  yes   \n",
              "3       47   blue-collar   married    unknown      no     1506     yes   no   \n",
              "4       33       unknown    single    unknown      no        1      no   no   \n",
              "...    ...           ...       ...        ...     ...      ...     ...  ...   \n",
              "45206   51    technician   married   tertiary      no      825      no   no   \n",
              "45207   71       retired  divorced    primary      no     1729      no   no   \n",
              "45208   72       retired   married  secondary      no     5715      no   no   \n",
              "45209   57   blue-collar   married  secondary      no      668      no   no   \n",
              "45210   37  entrepreneur   married  secondary      no     2971      no   no   \n",
              "\n",
              "         contact  day month  duration  campaign  pdays  previous poutcome    y  \n",
              "0        unknown    5   may       261         1     -1         0  unknown   no  \n",
              "1        unknown    5   may       151         1     -1         0  unknown   no  \n",
              "2        unknown    5   may        76         1     -1         0  unknown   no  \n",
              "3        unknown    5   may        92         1     -1         0  unknown   no  \n",
              "4        unknown    5   may       198         1     -1         0  unknown   no  \n",
              "...          ...  ...   ...       ...       ...    ...       ...      ...  ...  \n",
              "45206   cellular   17   nov       977         3     -1         0  unknown  yes  \n",
              "45207   cellular   17   nov       456         2     -1         0  unknown  yes  \n",
              "45208   cellular   17   nov      1127         5    184         3  success  yes  \n",
              "45209  telephone   17   nov       508         4     -1         0  unknown   no  \n",
              "45210   cellular   17   nov       361         2    188        11    other   no  \n",
              "\n",
              "[45211 rows x 17 columns]"
            ]
          },
          "execution_count": 7,
          "metadata": {},
          "output_type": "execute_result"
        }
      ],
      "source": [
        "db"
      ]
    },
    {
      "cell_type": "code",
      "execution_count": null,
      "id": "e98737db-44a8-44bd-89e4-fb36755c4708",
      "metadata": {
        "id": "e98737db-44a8-44bd-89e4-fb36755c4708",
        "outputId": "48ddfe33-0d8f-4ac1-8ac3-3057508b762a"
      },
      "outputs": [
        {
          "data": {
            "text/html": [
              "<div>\n",
              "<style scoped>\n",
              "    .dataframe tbody tr th:only-of-type {\n",
              "        vertical-align: middle;\n",
              "    }\n",
              "\n",
              "    .dataframe tbody tr th {\n",
              "        vertical-align: top;\n",
              "    }\n",
              "\n",
              "    .dataframe thead th {\n",
              "        text-align: right;\n",
              "    }\n",
              "</style>\n",
              "<table border=\"1\" class=\"dataframe\">\n",
              "  <thead>\n",
              "    <tr style=\"text-align: right;\">\n",
              "      <th></th>\n",
              "      <th>age</th>\n",
              "      <th>job</th>\n",
              "      <th>marital</th>\n",
              "      <th>education</th>\n",
              "      <th>default</th>\n",
              "      <th>balance</th>\n",
              "      <th>housing</th>\n",
              "      <th>loan</th>\n",
              "      <th>contact</th>\n",
              "      <th>day</th>\n",
              "      <th>month</th>\n",
              "      <th>duration</th>\n",
              "      <th>campaign</th>\n",
              "      <th>pdays</th>\n",
              "      <th>previous</th>\n",
              "      <th>poutcome</th>\n",
              "      <th>y</th>\n",
              "    </tr>\n",
              "  </thead>\n",
              "  <tbody>\n",
              "    <tr>\n",
              "      <th>0</th>\n",
              "      <td>58</td>\n",
              "      <td>management</td>\n",
              "      <td>married</td>\n",
              "      <td>tertiary</td>\n",
              "      <td>no</td>\n",
              "      <td>2143</td>\n",
              "      <td>yes</td>\n",
              "      <td>no</td>\n",
              "      <td>unknown</td>\n",
              "      <td>5</td>\n",
              "      <td>may</td>\n",
              "      <td>261</td>\n",
              "      <td>1</td>\n",
              "      <td>-1</td>\n",
              "      <td>0</td>\n",
              "      <td>unknown</td>\n",
              "      <td>no</td>\n",
              "    </tr>\n",
              "    <tr>\n",
              "      <th>27794</th>\n",
              "      <td>43</td>\n",
              "      <td>management</td>\n",
              "      <td>married</td>\n",
              "      <td>tertiary</td>\n",
              "      <td>no</td>\n",
              "      <td>344</td>\n",
              "      <td>yes</td>\n",
              "      <td>yes</td>\n",
              "      <td>cellular</td>\n",
              "      <td>28</td>\n",
              "      <td>jan</td>\n",
              "      <td>282</td>\n",
              "      <td>1</td>\n",
              "      <td>238</td>\n",
              "      <td>2</td>\n",
              "      <td>failure</td>\n",
              "      <td>no</td>\n",
              "    </tr>\n",
              "    <tr>\n",
              "      <th>27793</th>\n",
              "      <td>30</td>\n",
              "      <td>management</td>\n",
              "      <td>single</td>\n",
              "      <td>tertiary</td>\n",
              "      <td>no</td>\n",
              "      <td>1572</td>\n",
              "      <td>no</td>\n",
              "      <td>no</td>\n",
              "      <td>cellular</td>\n",
              "      <td>28</td>\n",
              "      <td>jan</td>\n",
              "      <td>200</td>\n",
              "      <td>1</td>\n",
              "      <td>-1</td>\n",
              "      <td>0</td>\n",
              "      <td>unknown</td>\n",
              "      <td>no</td>\n",
              "    </tr>\n",
              "    <tr>\n",
              "      <th>27792</th>\n",
              "      <td>52</td>\n",
              "      <td>services</td>\n",
              "      <td>married</td>\n",
              "      <td>secondary</td>\n",
              "      <td>no</td>\n",
              "      <td>393</td>\n",
              "      <td>yes</td>\n",
              "      <td>yes</td>\n",
              "      <td>cellular</td>\n",
              "      <td>28</td>\n",
              "      <td>jan</td>\n",
              "      <td>446</td>\n",
              "      <td>1</td>\n",
              "      <td>182</td>\n",
              "      <td>8</td>\n",
              "      <td>failure</td>\n",
              "      <td>no</td>\n",
              "    </tr>\n",
              "    <tr>\n",
              "      <th>27791</th>\n",
              "      <td>57</td>\n",
              "      <td>services</td>\n",
              "      <td>divorced</td>\n",
              "      <td>primary</td>\n",
              "      <td>no</td>\n",
              "      <td>362</td>\n",
              "      <td>no</td>\n",
              "      <td>no</td>\n",
              "      <td>cellular</td>\n",
              "      <td>28</td>\n",
              "      <td>jan</td>\n",
              "      <td>91</td>\n",
              "      <td>1</td>\n",
              "      <td>231</td>\n",
              "      <td>1</td>\n",
              "      <td>failure</td>\n",
              "      <td>no</td>\n",
              "    </tr>\n",
              "    <tr>\n",
              "      <th>...</th>\n",
              "      <td>...</td>\n",
              "      <td>...</td>\n",
              "      <td>...</td>\n",
              "      <td>...</td>\n",
              "      <td>...</td>\n",
              "      <td>...</td>\n",
              "      <td>...</td>\n",
              "      <td>...</td>\n",
              "      <td>...</td>\n",
              "      <td>...</td>\n",
              "      <td>...</td>\n",
              "      <td>...</td>\n",
              "      <td>...</td>\n",
              "      <td>...</td>\n",
              "      <td>...</td>\n",
              "      <td>...</td>\n",
              "      <td>...</td>\n",
              "    </tr>\n",
              "    <tr>\n",
              "      <th>5459</th>\n",
              "      <td>35</td>\n",
              "      <td>blue-collar</td>\n",
              "      <td>married</td>\n",
              "      <td>secondary</td>\n",
              "      <td>no</td>\n",
              "      <td>430</td>\n",
              "      <td>yes</td>\n",
              "      <td>no</td>\n",
              "      <td>unknown</td>\n",
              "      <td>23</td>\n",
              "      <td>may</td>\n",
              "      <td>147</td>\n",
              "      <td>50</td>\n",
              "      <td>-1</td>\n",
              "      <td>0</td>\n",
              "      <td>unknown</td>\n",
              "      <td>no</td>\n",
              "    </tr>\n",
              "    <tr>\n",
              "      <th>4299</th>\n",
              "      <td>30</td>\n",
              "      <td>management</td>\n",
              "      <td>single</td>\n",
              "      <td>tertiary</td>\n",
              "      <td>no</td>\n",
              "      <td>358</td>\n",
              "      <td>yes</td>\n",
              "      <td>no</td>\n",
              "      <td>unknown</td>\n",
              "      <td>19</td>\n",
              "      <td>may</td>\n",
              "      <td>88</td>\n",
              "      <td>51</td>\n",
              "      <td>-1</td>\n",
              "      <td>0</td>\n",
              "      <td>unknown</td>\n",
              "      <td>no</td>\n",
              "    </tr>\n",
              "    <tr>\n",
              "      <th>5073</th>\n",
              "      <td>35</td>\n",
              "      <td>technician</td>\n",
              "      <td>married</td>\n",
              "      <td>secondary</td>\n",
              "      <td>no</td>\n",
              "      <td>432</td>\n",
              "      <td>yes</td>\n",
              "      <td>no</td>\n",
              "      <td>unknown</td>\n",
              "      <td>21</td>\n",
              "      <td>may</td>\n",
              "      <td>1094</td>\n",
              "      <td>55</td>\n",
              "      <td>-1</td>\n",
              "      <td>0</td>\n",
              "      <td>unknown</td>\n",
              "      <td>no</td>\n",
              "    </tr>\n",
              "    <tr>\n",
              "      <th>11914</th>\n",
              "      <td>24</td>\n",
              "      <td>technician</td>\n",
              "      <td>single</td>\n",
              "      <td>primary</td>\n",
              "      <td>no</td>\n",
              "      <td>126</td>\n",
              "      <td>yes</td>\n",
              "      <td>no</td>\n",
              "      <td>unknown</td>\n",
              "      <td>20</td>\n",
              "      <td>jun</td>\n",
              "      <td>10</td>\n",
              "      <td>58</td>\n",
              "      <td>-1</td>\n",
              "      <td>0</td>\n",
              "      <td>unknown</td>\n",
              "      <td>no</td>\n",
              "    </tr>\n",
              "    <tr>\n",
              "      <th>4330</th>\n",
              "      <td>45</td>\n",
              "      <td>management</td>\n",
              "      <td>married</td>\n",
              "      <td>unknown</td>\n",
              "      <td>no</td>\n",
              "      <td>9051</td>\n",
              "      <td>yes</td>\n",
              "      <td>no</td>\n",
              "      <td>unknown</td>\n",
              "      <td>19</td>\n",
              "      <td>may</td>\n",
              "      <td>124</td>\n",
              "      <td>63</td>\n",
              "      <td>-1</td>\n",
              "      <td>0</td>\n",
              "      <td>unknown</td>\n",
              "      <td>no</td>\n",
              "    </tr>\n",
              "  </tbody>\n",
              "</table>\n",
              "<p>45211 rows × 17 columns</p>\n",
              "</div>"
            ],
            "text/plain": [
              "       age          job   marital  education default  balance housing loan  \\\n",
              "0       58   management   married   tertiary      no     2143     yes   no   \n",
              "27794   43   management   married   tertiary      no      344     yes  yes   \n",
              "27793   30   management    single   tertiary      no     1572      no   no   \n",
              "27792   52     services   married  secondary      no      393     yes  yes   \n",
              "27791   57     services  divorced    primary      no      362      no   no   \n",
              "...    ...          ...       ...        ...     ...      ...     ...  ...   \n",
              "5459    35  blue-collar   married  secondary      no      430     yes   no   \n",
              "4299    30   management    single   tertiary      no      358     yes   no   \n",
              "5073    35   technician   married  secondary      no      432     yes   no   \n",
              "11914   24   technician    single    primary      no      126     yes   no   \n",
              "4330    45   management   married    unknown      no     9051     yes   no   \n",
              "\n",
              "        contact  day month  duration  campaign  pdays  previous poutcome   y  \n",
              "0       unknown    5   may       261         1     -1         0  unknown  no  \n",
              "27794  cellular   28   jan       282         1    238         2  failure  no  \n",
              "27793  cellular   28   jan       200         1     -1         0  unknown  no  \n",
              "27792  cellular   28   jan       446         1    182         8  failure  no  \n",
              "27791  cellular   28   jan        91         1    231         1  failure  no  \n",
              "...         ...  ...   ...       ...       ...    ...       ...      ...  ..  \n",
              "5459    unknown   23   may       147        50     -1         0  unknown  no  \n",
              "4299    unknown   19   may        88        51     -1         0  unknown  no  \n",
              "5073    unknown   21   may      1094        55     -1         0  unknown  no  \n",
              "11914   unknown   20   jun        10        58     -1         0  unknown  no  \n",
              "4330    unknown   19   may       124        63     -1         0  unknown  no  \n",
              "\n",
              "[45211 rows x 17 columns]"
            ]
          },
          "execution_count": 13,
          "metadata": {},
          "output_type": "execute_result"
        }
      ],
      "source": [
        "z = db.sort_values(by=[\"campaign\"])\n",
        "z"
      ]
    },
    {
      "cell_type": "markdown",
      "id": "7030832b-8c4e-4b12-a752-361a2ac6acbc",
      "metadata": {
        "id": "7030832b-8c4e-4b12-a752-361a2ac6acbc"
      },
      "source": [
        "### Pemahaman konsep A/B Testing"
      ]
    },
    {
      "cell_type": "markdown",
      "id": "cd8d5cea-4734-4a8b-8115-232f15aa56f7",
      "metadata": {
        "id": "cd8d5cea-4734-4a8b-8115-232f15aa56f7"
      },
      "source": [
        "#### Nama experiment"
      ]
    },
    {
      "cell_type": "markdown",
      "id": "11959a74-f890-4002-a0b8-34dd373e4552",
      "metadata": {
        "id": "11959a74-f890-4002-a0b8-34dd373e4552"
      },
      "source": [
        "AB Test Number of Campaigns To Increase User Desire To Open a Deposit Account"
      ]
    },
    {
      "cell_type": "markdown",
      "id": "ab47151a-c099-48dd-87bf-79af2796ea08",
      "metadata": {
        "id": "ab47151a-c099-48dd-87bf-79af2796ea08"
      },
      "source": [
        "#### Hipotesis"
      ]
    },
    {
      "cell_type": "markdown",
      "id": "90b2d37d-cdf6-40b7-80db-9ee09303aed8",
      "metadata": {
        "id": "90b2d37d-cdf6-40b7-80db-9ee09303aed8"
      },
      "source": [
        "Number of campaigns will increase the user desire to open a deposit account"
      ]
    },
    {
      "cell_type": "markdown",
      "id": "ce1de9e3-cc8f-4257-98c4-51512910d274",
      "metadata": {
        "id": "ce1de9e3-cc8f-4257-98c4-51512910d274"
      },
      "source": [
        "#### Participant"
      ]
    },
    {
      "cell_type": "markdown",
      "id": "f9909266-c88e-4dc5-bba5-0c503a1b0eec",
      "metadata": {
        "id": "f9909266-c88e-4dc5-bba5-0c503a1b0eec"
      },
      "source": [
        "Users that offered to open a deposit account"
      ]
    },
    {
      "cell_type": "markdown",
      "id": "b8dcedf4-b8d2-46b7-9116-bf3656e7f84f",
      "metadata": {
        "id": "b8dcedf4-b8d2-46b7-9116-bf3656e7f84f"
      },
      "source": [
        "#### Variabel yang akan diuji"
      ]
    },
    {
      "cell_type": "markdown",
      "id": "f1af457b-b76d-48fb-9167-4ece5ddc6a42",
      "metadata": {
        "id": "f1af457b-b76d-48fb-9167-4ece5ddc6a42"
      },
      "source": [
        "Campaign and Y"
      ]
    },
    {
      "cell_type": "markdown",
      "id": "f4c17d3f-ac97-4b8b-ab01-f3d0529c1556",
      "metadata": {
        "id": "f4c17d3f-ac97-4b8b-ab01-f3d0529c1556"
      },
      "source": [
        "#### Metrics yang akan digunakan"
      ]
    },
    {
      "cell_type": "markdown",
      "id": "cf32d856-8a5b-4880-b541-09d2cc63fb4e",
      "metadata": {
        "id": "cf32d856-8a5b-4880-b541-09d2cc63fb4e"
      },
      "source": [
        "Macroconversions: user registeration rate"
      ]
    },
    {
      "cell_type": "markdown",
      "id": "214c93c8-463b-489c-8667-de8e2caa31a4",
      "metadata": {
        "id": "214c93c8-463b-489c-8667-de8e2caa31a4"
      },
      "source": [
        "#### Jumlah sample size dan durasi experiment"
      ]
    },
    {
      "cell_type": "code",
      "execution_count": null,
      "id": "1e6ff31b-4774-431b-adb9-aaaa053cb7b0",
      "metadata": {
        "id": "1e6ff31b-4774-431b-adb9-aaaa053cb7b0",
        "outputId": "01712695-644e-498d-8299-e2758572679d"
      },
      "outputs": [
        {
          "data": {
            "text/plain": [
              "(45211, 17)"
            ]
          },
          "execution_count": 14,
          "metadata": {},
          "output_type": "execute_result"
        }
      ],
      "source": [
        "db.shape"
      ]
    },
    {
      "cell_type": "code",
      "execution_count": null,
      "id": "a3ef8e9f-5913-4f17-ab6f-3eca3f102db1",
      "metadata": {
        "id": "a3ef8e9f-5913-4f17-ab6f-3eca3f102db1"
      },
      "outputs": [],
      "source": [
        "N = 45211\n",
        "e = 0.05"
      ]
    },
    {
      "cell_type": "code",
      "execution_count": null,
      "id": "7678b528-0b10-429d-9025-5fdfeee03536",
      "metadata": {
        "id": "7678b528-0b10-429d-9025-5fdfeee03536",
        "outputId": "24224c00-a757-4240-888f-0dba2154037f"
      },
      "outputs": [
        {
          "data": {
            "text/plain": [
              "396.4920742803271"
            ]
          },
          "execution_count": 16,
          "metadata": {},
          "output_type": "execute_result"
        }
      ],
      "source": [
        "slovin = N/(1+N * e**2)\n",
        "slovin"
      ]
    },
    {
      "cell_type": "markdown",
      "id": "a97de7ca-59eb-46d1-a71d-d2e96785fee1",
      "metadata": {
        "id": "a97de7ca-59eb-46d1-a71d-d2e96785fee1"
      },
      "source": [
        "Jumlah sample: 400"
      ]
    },
    {
      "cell_type": "markdown",
      "id": "cecb07cc-c5d9-40c1-a1ce-7880137d121e",
      "metadata": {
        "id": "cecb07cc-c5d9-40c1-a1ce-7880137d121e"
      },
      "source": [
        "Durasi eksperiment: 1 minggu"
      ]
    },
    {
      "cell_type": "markdown",
      "id": "ed0a44b3-0bb0-46e1-b71c-c5d57f70f032",
      "metadata": {
        "id": "ed0a44b3-0bb0-46e1-b71c-c5d57f70f032"
      },
      "source": [
        "### Pengujian Hipotesis"
      ]
    },
    {
      "cell_type": "markdown",
      "id": "4277bffb-d08e-4c2d-8fdb-a2bacbc86daa",
      "metadata": {
        "id": "4277bffb-d08e-4c2d-8fdb-a2bacbc86daa"
      },
      "source": [
        "#### Penentuan hipotesis"
      ]
    },
    {
      "cell_type": "markdown",
      "id": "1d11e415-7530-4fe6-9f0c-5db0a78a4174",
      "metadata": {
        "id": "1d11e415-7530-4fe6-9f0c-5db0a78a4174"
      },
      "source": [
        "H0 = tidak terdapat perbedaan rata-rata jumlah user yang tertarik berdasarkan jumlah campaign yang nyata.\n",
        "\n",
        "H1 = terdapat perbedaan nyata rata-rata jumlah user yang tertarik berdasarkan jumlah campaign."
      ]
    },
    {
      "cell_type": "code",
      "execution_count": null,
      "id": "3918713c-5150-46fa-9690-29734926a31c",
      "metadata": {
        "id": "3918713c-5150-46fa-9690-29734926a31c",
        "outputId": "81582479-f9e4-4499-d07b-2f077fb9b5dd"
      },
      "outputs": [
        {
          "data": {
            "text/html": [
              "<div>\n",
              "<style scoped>\n",
              "    .dataframe tbody tr th:only-of-type {\n",
              "        vertical-align: middle;\n",
              "    }\n",
              "\n",
              "    .dataframe tbody tr th {\n",
              "        vertical-align: top;\n",
              "    }\n",
              "\n",
              "    .dataframe thead th {\n",
              "        text-align: right;\n",
              "    }\n",
              "</style>\n",
              "<table border=\"1\" class=\"dataframe\">\n",
              "  <thead>\n",
              "    <tr style=\"text-align: right;\">\n",
              "      <th></th>\n",
              "      <th>y</th>\n",
              "      <th>age</th>\n",
              "      <th>job</th>\n",
              "      <th>marital</th>\n",
              "      <th>education</th>\n",
              "      <th>default</th>\n",
              "      <th>balance</th>\n",
              "      <th>housing</th>\n",
              "      <th>loan</th>\n",
              "      <th>contact</th>\n",
              "      <th>day</th>\n",
              "      <th>month</th>\n",
              "      <th>duration</th>\n",
              "      <th>campaign</th>\n",
              "      <th>pdays</th>\n",
              "      <th>previous</th>\n",
              "      <th>poutcome</th>\n",
              "    </tr>\n",
              "  </thead>\n",
              "  <tbody>\n",
              "    <tr>\n",
              "      <th>0</th>\n",
              "      <td>no</td>\n",
              "      <td>39922</td>\n",
              "      <td>39922</td>\n",
              "      <td>39922</td>\n",
              "      <td>39922</td>\n",
              "      <td>39922</td>\n",
              "      <td>39922</td>\n",
              "      <td>39922</td>\n",
              "      <td>39922</td>\n",
              "      <td>39922</td>\n",
              "      <td>39922</td>\n",
              "      <td>39922</td>\n",
              "      <td>39922</td>\n",
              "      <td>39922</td>\n",
              "      <td>39922</td>\n",
              "      <td>39922</td>\n",
              "      <td>39922</td>\n",
              "    </tr>\n",
              "    <tr>\n",
              "      <th>1</th>\n",
              "      <td>yes</td>\n",
              "      <td>5289</td>\n",
              "      <td>5289</td>\n",
              "      <td>5289</td>\n",
              "      <td>5289</td>\n",
              "      <td>5289</td>\n",
              "      <td>5289</td>\n",
              "      <td>5289</td>\n",
              "      <td>5289</td>\n",
              "      <td>5289</td>\n",
              "      <td>5289</td>\n",
              "      <td>5289</td>\n",
              "      <td>5289</td>\n",
              "      <td>5289</td>\n",
              "      <td>5289</td>\n",
              "      <td>5289</td>\n",
              "      <td>5289</td>\n",
              "    </tr>\n",
              "  </tbody>\n",
              "</table>\n",
              "</div>"
            ],
            "text/plain": [
              "     y    age    job  marital  education  default  balance  housing   loan  \\\n",
              "0   no  39922  39922    39922      39922    39922    39922    39922  39922   \n",
              "1  yes   5289   5289     5289       5289     5289     5289     5289   5289   \n",
              "\n",
              "   contact    day  month  duration  campaign  pdays  previous  poutcome  \n",
              "0    39922  39922  39922     39922     39922  39922     39922     39922  \n",
              "1     5289   5289   5289      5289      5289   5289      5289      5289  "
            ]
          },
          "execution_count": 36,
          "metadata": {},
          "output_type": "execute_result"
        }
      ],
      "source": [
        "db.groupby(['y'],as_index=False).count()"
      ]
    },
    {
      "cell_type": "code",
      "execution_count": null,
      "id": "697bb75c-55b9-41e4-a27a-7894277a7e24",
      "metadata": {
        "id": "697bb75c-55b9-41e4-a27a-7894277a7e24",
        "outputId": "fc36f52f-0b3c-4f00-a193-4d6c332646a5"
      },
      "outputs": [
        {
          "data": {
            "text/html": [
              "<div>\n",
              "<style scoped>\n",
              "    .dataframe tbody tr th:only-of-type {\n",
              "        vertical-align: middle;\n",
              "    }\n",
              "\n",
              "    .dataframe tbody tr th {\n",
              "        vertical-align: top;\n",
              "    }\n",
              "\n",
              "    .dataframe thead th {\n",
              "        text-align: right;\n",
              "    }\n",
              "</style>\n",
              "<table border=\"1\" class=\"dataframe\">\n",
              "  <thead>\n",
              "    <tr style=\"text-align: right;\">\n",
              "      <th></th>\n",
              "      <th></th>\n",
              "      <th>age</th>\n",
              "      <th>job</th>\n",
              "      <th>marital</th>\n",
              "      <th>education</th>\n",
              "      <th>default</th>\n",
              "      <th>balance</th>\n",
              "      <th>housing</th>\n",
              "      <th>loan</th>\n",
              "      <th>contact</th>\n",
              "      <th>day</th>\n",
              "      <th>month</th>\n",
              "      <th>duration</th>\n",
              "      <th>campaign</th>\n",
              "      <th>pdays</th>\n",
              "      <th>previous</th>\n",
              "      <th>poutcome</th>\n",
              "      <th>y</th>\n",
              "    </tr>\n",
              "    <tr>\n",
              "      <th>y</th>\n",
              "      <th></th>\n",
              "      <th></th>\n",
              "      <th></th>\n",
              "      <th></th>\n",
              "      <th></th>\n",
              "      <th></th>\n",
              "      <th></th>\n",
              "      <th></th>\n",
              "      <th></th>\n",
              "      <th></th>\n",
              "      <th></th>\n",
              "      <th></th>\n",
              "      <th></th>\n",
              "      <th></th>\n",
              "      <th></th>\n",
              "      <th></th>\n",
              "      <th></th>\n",
              "      <th></th>\n",
              "    </tr>\n",
              "  </thead>\n",
              "  <tbody>\n",
              "    <tr>\n",
              "      <th rowspan=\"5\" valign=\"top\">no</th>\n",
              "      <th>36755</th>\n",
              "      <td>41</td>\n",
              "      <td>management</td>\n",
              "      <td>single</td>\n",
              "      <td>secondary</td>\n",
              "      <td>no</td>\n",
              "      <td>5548</td>\n",
              "      <td>yes</td>\n",
              "      <td>no</td>\n",
              "      <td>cellular</td>\n",
              "      <td>12</td>\n",
              "      <td>may</td>\n",
              "      <td>128</td>\n",
              "      <td>2</td>\n",
              "      <td>-1</td>\n",
              "      <td>0</td>\n",
              "      <td>unknown</td>\n",
              "      <td>no</td>\n",
              "    </tr>\n",
              "    <tr>\n",
              "      <th>21913</th>\n",
              "      <td>44</td>\n",
              "      <td>management</td>\n",
              "      <td>married</td>\n",
              "      <td>tertiary</td>\n",
              "      <td>no</td>\n",
              "      <td>0</td>\n",
              "      <td>no</td>\n",
              "      <td>no</td>\n",
              "      <td>cellular</td>\n",
              "      <td>20</td>\n",
              "      <td>aug</td>\n",
              "      <td>122</td>\n",
              "      <td>2</td>\n",
              "      <td>-1</td>\n",
              "      <td>0</td>\n",
              "      <td>unknown</td>\n",
              "      <td>no</td>\n",
              "    </tr>\n",
              "    <tr>\n",
              "      <th>27933</th>\n",
              "      <td>29</td>\n",
              "      <td>unknown</td>\n",
              "      <td>single</td>\n",
              "      <td>secondary</td>\n",
              "      <td>no</td>\n",
              "      <td>1502</td>\n",
              "      <td>no</td>\n",
              "      <td>no</td>\n",
              "      <td>cellular</td>\n",
              "      <td>28</td>\n",
              "      <td>jan</td>\n",
              "      <td>59</td>\n",
              "      <td>1</td>\n",
              "      <td>-1</td>\n",
              "      <td>0</td>\n",
              "      <td>unknown</td>\n",
              "      <td>no</td>\n",
              "    </tr>\n",
              "    <tr>\n",
              "      <th>41893</th>\n",
              "      <td>60</td>\n",
              "      <td>management</td>\n",
              "      <td>married</td>\n",
              "      <td>secondary</td>\n",
              "      <td>no</td>\n",
              "      <td>0</td>\n",
              "      <td>no</td>\n",
              "      <td>no</td>\n",
              "      <td>telephone</td>\n",
              "      <td>19</td>\n",
              "      <td>oct</td>\n",
              "      <td>1745</td>\n",
              "      <td>3</td>\n",
              "      <td>62</td>\n",
              "      <td>3</td>\n",
              "      <td>failure</td>\n",
              "      <td>no</td>\n",
              "    </tr>\n",
              "    <tr>\n",
              "      <th>25719</th>\n",
              "      <td>30</td>\n",
              "      <td>management</td>\n",
              "      <td>single</td>\n",
              "      <td>tertiary</td>\n",
              "      <td>no</td>\n",
              "      <td>4896</td>\n",
              "      <td>no</td>\n",
              "      <td>no</td>\n",
              "      <td>cellular</td>\n",
              "      <td>19</td>\n",
              "      <td>nov</td>\n",
              "      <td>132</td>\n",
              "      <td>1</td>\n",
              "      <td>-1</td>\n",
              "      <td>0</td>\n",
              "      <td>unknown</td>\n",
              "      <td>no</td>\n",
              "    </tr>\n",
              "    <tr>\n",
              "      <th>...</th>\n",
              "      <th>...</th>\n",
              "      <td>...</td>\n",
              "      <td>...</td>\n",
              "      <td>...</td>\n",
              "      <td>...</td>\n",
              "      <td>...</td>\n",
              "      <td>...</td>\n",
              "      <td>...</td>\n",
              "      <td>...</td>\n",
              "      <td>...</td>\n",
              "      <td>...</td>\n",
              "      <td>...</td>\n",
              "      <td>...</td>\n",
              "      <td>...</td>\n",
              "      <td>...</td>\n",
              "      <td>...</td>\n",
              "      <td>...</td>\n",
              "      <td>...</td>\n",
              "    </tr>\n",
              "    <tr>\n",
              "      <th rowspan=\"5\" valign=\"top\">yes</th>\n",
              "      <th>44254</th>\n",
              "      <td>34</td>\n",
              "      <td>unemployed</td>\n",
              "      <td>single</td>\n",
              "      <td>tertiary</td>\n",
              "      <td>no</td>\n",
              "      <td>1974</td>\n",
              "      <td>no</td>\n",
              "      <td>no</td>\n",
              "      <td>cellular</td>\n",
              "      <td>22</td>\n",
              "      <td>jul</td>\n",
              "      <td>355</td>\n",
              "      <td>1</td>\n",
              "      <td>342</td>\n",
              "      <td>3</td>\n",
              "      <td>success</td>\n",
              "      <td>yes</td>\n",
              "    </tr>\n",
              "    <tr>\n",
              "      <th>40878</th>\n",
              "      <td>41</td>\n",
              "      <td>management</td>\n",
              "      <td>married</td>\n",
              "      <td>tertiary</td>\n",
              "      <td>no</td>\n",
              "      <td>27696</td>\n",
              "      <td>no</td>\n",
              "      <td>no</td>\n",
              "      <td>cellular</td>\n",
              "      <td>12</td>\n",
              "      <td>aug</td>\n",
              "      <td>147</td>\n",
              "      <td>2</td>\n",
              "      <td>104</td>\n",
              "      <td>1</td>\n",
              "      <td>failure</td>\n",
              "      <td>yes</td>\n",
              "    </tr>\n",
              "    <tr>\n",
              "      <th>22923</th>\n",
              "      <td>32</td>\n",
              "      <td>management</td>\n",
              "      <td>single</td>\n",
              "      <td>tertiary</td>\n",
              "      <td>no</td>\n",
              "      <td>2536</td>\n",
              "      <td>yes</td>\n",
              "      <td>no</td>\n",
              "      <td>cellular</td>\n",
              "      <td>26</td>\n",
              "      <td>aug</td>\n",
              "      <td>958</td>\n",
              "      <td>6</td>\n",
              "      <td>-1</td>\n",
              "      <td>0</td>\n",
              "      <td>unknown</td>\n",
              "      <td>yes</td>\n",
              "    </tr>\n",
              "    <tr>\n",
              "      <th>42872</th>\n",
              "      <td>32</td>\n",
              "      <td>student</td>\n",
              "      <td>single</td>\n",
              "      <td>tertiary</td>\n",
              "      <td>no</td>\n",
              "      <td>0</td>\n",
              "      <td>no</td>\n",
              "      <td>no</td>\n",
              "      <td>cellular</td>\n",
              "      <td>4</td>\n",
              "      <td>feb</td>\n",
              "      <td>233</td>\n",
              "      <td>3</td>\n",
              "      <td>276</td>\n",
              "      <td>2</td>\n",
              "      <td>failure</td>\n",
              "      <td>yes</td>\n",
              "    </tr>\n",
              "    <tr>\n",
              "      <th>40453</th>\n",
              "      <td>54</td>\n",
              "      <td>admin.</td>\n",
              "      <td>married</td>\n",
              "      <td>secondary</td>\n",
              "      <td>no</td>\n",
              "      <td>1633</td>\n",
              "      <td>no</td>\n",
              "      <td>no</td>\n",
              "      <td>cellular</td>\n",
              "      <td>3</td>\n",
              "      <td>jul</td>\n",
              "      <td>409</td>\n",
              "      <td>2</td>\n",
              "      <td>-1</td>\n",
              "      <td>0</td>\n",
              "      <td>unknown</td>\n",
              "      <td>yes</td>\n",
              "    </tr>\n",
              "  </tbody>\n",
              "</table>\n",
              "<p>400 rows × 17 columns</p>\n",
              "</div>"
            ],
            "text/plain": [
              "           age         job  marital  education default  balance housing loan  \\\n",
              "y                                                                              \n",
              "no  36755   41  management   single  secondary      no     5548     yes   no   \n",
              "    21913   44  management  married   tertiary      no        0      no   no   \n",
              "    27933   29     unknown   single  secondary      no     1502      no   no   \n",
              "    41893   60  management  married  secondary      no        0      no   no   \n",
              "    25719   30  management   single   tertiary      no     4896      no   no   \n",
              "...        ...         ...      ...        ...     ...      ...     ...  ...   \n",
              "yes 44254   34  unemployed   single   tertiary      no     1974      no   no   \n",
              "    40878   41  management  married   tertiary      no    27696      no   no   \n",
              "    22923   32  management   single   tertiary      no     2536     yes   no   \n",
              "    42872   32     student   single   tertiary      no        0      no   no   \n",
              "    40453   54      admin.  married  secondary      no     1633      no   no   \n",
              "\n",
              "             contact  day month  duration  campaign  pdays  previous poutcome  \\\n",
              "y                                                                               \n",
              "no  36755   cellular   12   may       128         2     -1         0  unknown   \n",
              "    21913   cellular   20   aug       122         2     -1         0  unknown   \n",
              "    27933   cellular   28   jan        59         1     -1         0  unknown   \n",
              "    41893  telephone   19   oct      1745         3     62         3  failure   \n",
              "    25719   cellular   19   nov       132         1     -1         0  unknown   \n",
              "...              ...  ...   ...       ...       ...    ...       ...      ...   \n",
              "yes 44254   cellular   22   jul       355         1    342         3  success   \n",
              "    40878   cellular   12   aug       147         2    104         1  failure   \n",
              "    22923   cellular   26   aug       958         6     -1         0  unknown   \n",
              "    42872   cellular    4   feb       233         3    276         2  failure   \n",
              "    40453   cellular    3   jul       409         2     -1         0  unknown   \n",
              "\n",
              "             y  \n",
              "y               \n",
              "no  36755   no  \n",
              "    21913   no  \n",
              "    27933   no  \n",
              "    41893   no  \n",
              "    25719   no  \n",
              "...        ...  \n",
              "yes 44254  yes  \n",
              "    40878  yes  \n",
              "    22923  yes  \n",
              "    42872  yes  \n",
              "    40453  yes  \n",
              "\n",
              "[400 rows x 17 columns]"
            ]
          },
          "execution_count": 9,
          "metadata": {},
          "output_type": "execute_result"
        }
      ],
      "source": [
        "db_sample = db.groupby(['y']).apply(lambda x: x.sample(n=200,random_state=123))\n",
        "db_sample"
      ]
    },
    {
      "cell_type": "code",
      "execution_count": null,
      "id": "2030a2e6-2718-4db7-89fb-5ef1f6f7d709",
      "metadata": {
        "id": "2030a2e6-2718-4db7-89fb-5ef1f6f7d709",
        "outputId": "73712f3f-34eb-4625-8b93-5b0ff6408f13"
      },
      "outputs": [
        {
          "data": {
            "text/plain": [
              "no     200\n",
              "yes    200\n",
              "Name: y, dtype: int64"
            ]
          },
          "execution_count": 10,
          "metadata": {},
          "output_type": "execute_result"
        }
      ],
      "source": [
        "db_sample['y'].value_counts()"
      ]
    },
    {
      "cell_type": "code",
      "execution_count": null,
      "id": "02799918-cdc8-4ac8-b79d-e95a3e65e51b",
      "metadata": {
        "id": "02799918-cdc8-4ac8-b79d-e95a3e65e51b",
        "outputId": "de3a9552-7bbc-4c52-e49d-b916e1f9b701"
      },
      "outputs": [
        {
          "name": "stdout",
          "output_type": "stream",
          "text": [
            "<class 'pandas.core.frame.DataFrame'>\n",
            "MultiIndex: 400 entries, ('no', 36755) to ('yes', 40453)\n",
            "Data columns (total 17 columns):\n",
            " #   Column     Non-Null Count  Dtype \n",
            "---  ------     --------------  ----- \n",
            " 0   age        400 non-null    int64 \n",
            " 1   job        400 non-null    object\n",
            " 2   marital    400 non-null    object\n",
            " 3   education  400 non-null    object\n",
            " 4   default    400 non-null    object\n",
            " 5   balance    400 non-null    int64 \n",
            " 6   housing    400 non-null    object\n",
            " 7   loan       400 non-null    object\n",
            " 8   contact    400 non-null    object\n",
            " 9   day        400 non-null    int64 \n",
            " 10  month      400 non-null    object\n",
            " 11  duration   400 non-null    int64 \n",
            " 12  campaign   400 non-null    int64 \n",
            " 13  pdays      400 non-null    int64 \n",
            " 14  previous   400 non-null    int64 \n",
            " 15  poutcome   400 non-null    object\n",
            " 16  y          400 non-null    object\n",
            "dtypes: int64(7), object(10)\n",
            "memory usage: 73.7+ KB\n"
          ]
        }
      ],
      "source": [
        "db_sample.info()"
      ]
    },
    {
      "cell_type": "code",
      "execution_count": null,
      "id": "a79e57a6-2e31-4b0e-940b-835d3c443403",
      "metadata": {
        "id": "a79e57a6-2e31-4b0e-940b-835d3c443403",
        "outputId": "52605c3f-30de-4e30-86a7-b0c384d72671"
      },
      "outputs": [
        {
          "data": {
            "image/png": "[encoded data removed]",
            "text/plain": [
              "<Figure size 576x360 with 1 Axes>"
            ]
          },
          "metadata": {
            "needs_background": "light"
          },
          "output_type": "display_data"
        }
      ],
      "source": [
        "plt.figure(figsize=(8,5))\n",
        "sns.histplot(x = db_sample['campaign'], data = db_sample,\n",
        "            color = 'hotpink',\n",
        "            edgecolor= 'deeppink', \n",
        "            linewidth = 3)\n",
        "\n",
        "plt.title('Grafik Distribusi campaign',color='indigo',fontsize=18,fontweight='bold')\n",
        "plt.xlabel('campaign', color= 'darkmagenta', fontsize=15) # x axis label\n",
        "plt.tick_params(axis = 'both', which = 'major', labelsize = 14);\n",
        "plt.ylim(0,250)\n",
        "plt.tight_layout()\n",
        "plt.show()"
      ]
    },
    {
      "cell_type": "markdown",
      "id": "b9902031-1ea5-4a0a-b6f6-37a02093d029",
      "metadata": {
        "id": "b9902031-1ea5-4a0a-b6f6-37a02093d029"
      },
      "source": [
        "#### Pengujian yang digunakan"
      ]
    },
    {
      "cell_type": "markdown",
      "id": "64e35b35-8b0d-40de-a9ce-3c8ff55620b8",
      "metadata": {
        "id": "64e35b35-8b0d-40de-a9ce-3c8ff55620b8"
      },
      "source": [
        "uji statisik yang digunakan adalah ttest."
      ]
    },
    {
      "cell_type": "markdown",
      "id": "0b0d6bee-a8f7-4f7e-993c-099b86dba3f8",
      "metadata": {
        "id": "0b0d6bee-a8f7-4f7e-993c-099b86dba3f8"
      },
      "source": [
        "#### Deteksi asumsi beserta cara penanganannya"
      ]
    },
    {
      "cell_type": "markdown",
      "id": "452dce29-90b1-49ec-be6a-3e4cd2ca3799",
      "metadata": {
        "id": "452dce29-90b1-49ec-be6a-3e4cd2ca3799"
      },
      "source": [
        "Asumsi peneliti adalah jumlah campaign mampu mempengaruhi keinginan user untuk membuka akun deposit. untuk menguji hipotesis ini dapat melakukan uji statistik ttest."
      ]
    },
    {
      "cell_type": "markdown",
      "id": "5d74baec-aae6-4f37-bcc4-a1c233d96539",
      "metadata": {
        "id": "5d74baec-aae6-4f37-bcc4-a1c233d96539"
      },
      "source": [
        "#### Hasil pengujian hipotesis"
      ]
    },
    {
      "cell_type": "code",
      "execution_count": null,
      "id": "3f015cb7-1268-42d8-9773-58646dc083bd",
      "metadata": {
        "id": "3f015cb7-1268-42d8-9773-58646dc083bd"
      },
      "outputs": [],
      "source": [
        "No = db_sample[db_sample['y']=='no']\n",
        "Yes = db_sample[db_sample['y']=='yes']"
      ]
    },
    {
      "cell_type": "code",
      "execution_count": null,
      "id": "d29d2e4f-e8fe-4c55-bda6-b086d5e3f140",
      "metadata": {
        "id": "d29d2e4f-e8fe-4c55-bda6-b086d5e3f140"
      },
      "outputs": [],
      "source": [
        "ttest = st.ttest_ind(a = Yes['campaign'], b=No['campaign'])\n",
        "p_value = ttest.pvalue"
      ]
    },
    {
      "cell_type": "code",
      "execution_count": null,
      "id": "801e4d93-d89c-436f-a849-946cefd980fb",
      "metadata": {
        "id": "801e4d93-d89c-436f-a849-946cefd980fb",
        "outputId": "3d113384-a17a-4c73-943c-50b9de4e97b4"
      },
      "outputs": [
        {
          "name": "stdout",
          "output_type": "stream",
          "text": [
            "P-Value : 0.014343371543715252\n",
            "Sufficient Reject H0\n"
          ]
        }
      ],
      "source": [
        "print('P-Value :',p_value)\n",
        "if p_value >= 0.05:\n",
        "    print('Insufficient Reject H0')\n",
        "else:\n",
        "    print('Sufficient Reject H0')"
      ]
    },
    {
      "cell_type": "markdown",
      "id": "e5569baf-5ea0-4cae-9f3e-985689bf4989",
      "metadata": {
        "id": "e5569baf-5ea0-4cae-9f3e-985689bf4989"
      },
      "source": [
        "#### Kesimpulan dan interpretasi"
      ]
    },
    {
      "cell_type": "markdown",
      "id": "1b0a7b03-3366-4f91-866f-0fda85ce462d",
      "metadata": {
        "id": "1b0a7b03-3366-4f91-866f-0fda85ce462d"
      },
      "source": [
        "Berdasarkan hasil uji test yang telah dilakukan dapat disimpulkan bahwa cukup bukti untuk menolak H0/ menerima H1 yang berisi terdapat perbedaan nyata rata-rata jumlah user yang tertarik berdasarkan jumlah campaign. Asumsi peneliti adalah jumlah campaign mampu mempengaruhi keinginan user untuk membuka akun deposit dinyatakan benar. Hal ini bisa terjadi karena jumlah campaign yang tepat mampu memperkenalkan produk dan meyakinkan user/ nasabah untuk membuka akun deposit."
      ]
    }
  ],
  "metadata": {
    "kernelspec": {
      "display_name": "Python 3 (ipykernel)",
      "language": "python",
      "name": "python3"
    },
    "language_info": {
      "codemirror_mode": {
        "name": "ipython",
        "version": 3
      },
      "file_extension": ".py",
      "mimetype": "text/x-python",
      "name": "python",
      "nbconvert_exporter": "python",
      "pygments_lexer": "ipython3",
      "version": "3.9.7"
    },
    "colab": {
      "name": "Statistics_Case.ipynb",
      "provenance": [],
      "include_colab_link": true
    }
  },
  "nbformat": 4,
  "nbformat_minor": 5
}